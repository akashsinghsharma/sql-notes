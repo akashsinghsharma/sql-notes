{
  "nbformat": 4,
  "nbformat_minor": 0,
  "metadata": {
    "colab": {
      "provenance": [],
      "authorship_tag": "ABX9TyOHLxhmhpxf7T9q8cHYnErE",
      "include_colab_link": true
    },
    "kernelspec": {
      "name": "python3",
      "display_name": "Python 3"
    },
    "language_info": {
      "name": "python"
    }
  },
  "cells": [
    {
      "cell_type": "markdown",
      "metadata": {
        "id": "view-in-github",
        "colab_type": "text"
      },
      "source": [
        "<a href=\"https://colab.research.google.com/github/akashsinghsharma/sql-notes/blob/main/SQL_Interview_Questions.ipynb\" target=\"_parent\"><img src=\"https://colab.research.google.com/assets/colab-badge.svg\" alt=\"Open In Colab\"/></a>"
      ]
    },
    {
      "cell_type": "markdown",
      "source": [
        "1. What is SQL?\n",
        "\n",
        "SQL stands for structured query language. It is used to interact with databases, like creating table to\n",
        "columns, inserting rows to pulling different records with different conditions, executing queries etc."
      ],
      "metadata": {
        "id": "LApBbwCHXqvU"
      }
    },
    {
      "cell_type": "markdown",
      "source": [
        "2. What is a database?\n",
        "\n",
        "A collection of data in an organized manner and can be accessed in various ways. It is also the collection\n",
        "of schemas, tables, queries, views, etc. Databases help us with easily storing, accessing, and\n",
        "manipulating data held on a computer"
      ],
      "metadata": {
        "id": "V64taXciXwtw"
      }
    },
    {
      "cell_type": "markdown",
      "source": [
        "3. Does SQL support programming language features?\n",
        "\n",
        "SQL helps us in manipulating data in database. We can query, update, delete, create data in database but\n",
        "we can't program anything as it lacks conditional statements, etc. if else statement. This it is a command\n",
        "language not a programming language."
      ],
      "metadata": {
        "id": "etfFErKOX0tj"
      }
    },
    {
      "cell_type": "markdown",
      "source": [
        "4. What are the differences between SQL and PL/SQL?\n",
        "\n",
        "SQL is a query or command language, PL/SQL is a programming language. SQL is used to query data\n",
        "while later is used to create application. SQL tells database what do do while later tells how to do it. We\n",
        "can run multiple block of statements in PL / SQL but we can't do the same in SQL."
      ],
      "metadata": {
        "id": "NTnsONWsX6jg"
      }
    },
    {
      "cell_type": "markdown",
      "source": [
        "5. What is the difference between BETWEEN and IN operators in SQL?\n",
        "\n",
        "Between is used to check in between some range, like say BETWEEN 20 AND 30, which means anything\n",
        "in between 20 and 30.\n",
        "IN operator will check for me the exact values in a list."
      ],
      "metadata": {
        "id": "ZMYLxGmTX-ji"
      }
    },
    {
      "cell_type": "markdown",
      "source": [
        "11. What is a join in SQL? What are the types of joins?\n",
        "\n",
        "It is used to query data from multiple tables.\n",
        "\n",
        "inner join - will give back result from both the table for matching records in table.\n",
        "outer join - will give back all the records from both table and put null where columns for some records are unavailable.\n",
        "right - gives back all records from right and matching from left.\n",
        "left - gives back all records of left and matching from right."
      ],
      "metadata": {
        "id": "g9Uk9ssUMKh8"
      }
    },
    {
      "cell_type": "markdown",
      "source": [
        "12. How to Join more than 2 tables in sql join.\n",
        "\n",
        "`SELECT *`\n",
        "\n",
        "`FROM Table1`\n",
        "\n",
        "`INNER JOIN Table2 ON Table1.CommonID1 = Table2.CommonID1`\n",
        "\n",
        "`INNER JOIN Table3 ON Table2.CommonID2 = Table3.CommonID2`\n",
        "\n",
        "`INNER JOIN Table4 ON Table3.CommonID3 = Table4.CommonID3;`"
      ],
      "metadata": {
        "id": "CeQHdyaIMKsw"
      }
    },
    {
      "cell_type": "markdown",
      "source": [
        "13. Explain SQL constraints?\n",
        "\n",
        "NOT NULL - Restricts NULL value from being inserted into a column.\n",
        "\n",
        "CHECK - Verifies that all values in a field satisfy a condition.\n",
        "\n",
        "DEFAULT - Automatically assigns a default value if no value has been specified for the field.\n",
        "\n",
        "UNIQUE - Ensures unique values to be inserted into the field.\n",
        "\n",
        "INDEX - Indexes a field providing faster retrieval of records.\n",
        "\n",
        "PRIMARY KEY - Uniquely identifies each record in a table.\n",
        "\n",
        "FOREIGN KEY - Ensures referential integrity for a record in another table.\n",
        "\n",
        "```\n",
        "CREATE TABLE Employees (\n",
        "    EmployeeID INT PRIMARY KEY,   -- PRIMARY KEY constraint\n",
        "    FirstName VARCHAR(50) NOT NULL,   -- NOT NULL constraint\n",
        "    LastName VARCHAR(50) NOT NULL,    -- NOT NULL constraint\n",
        "    Email VARCHAR(100) UNIQUE,   -- UNIQUE constraint\n",
        "    Age INT CHECK (Age >= 18),   -- CHECK constraint\n",
        "    DepartmentID INT,   -- This will be a FOREIGN KEY constraint\n",
        "    HireDate DATE DEFAULT CURRENT_DATE,   -- DEFAULT constraint\n",
        "    INDEX (LastName),   -- INDEX constraint\n",
        "    FOREIGN KEY (DepartmentID) REFERENCES Departments(DepartmentID)   -- FOREIGN KEY constraint\n",
        ");\n",
        "```"
      ],
      "metadata": {
        "id": "_tdJDkLSMKvQ"
      }
    },
    {
      "cell_type": "markdown",
      "source": [
        "14. What is a primary key, a foreign key, and a unique key.\n",
        "\n",
        "Primary key - unique, not null, indexed, immutable (can't be changed once assigned). It uniquily identifies each rows.\n",
        "\n",
        "Foreign key - establish reference to another table, can be null.\n",
        "\n",
        "Unique key - it is unique but can be null. Often indexed.\n",
        "\n",
        "EG: Employee id is primary key, govt id is unique key, department code is foreign key."
      ],
      "metadata": {
        "id": "byuVdSwGMKxs"
      }
    },
    {
      "cell_type": "markdown",
      "source": [
        "15. What is a trigger?\n",
        "\n",
        "\n",
        "In SQL, a trigger is a database object that automatically performs an action (or a set of actions) in response to a specific event, such as an INSERT, UPDATE, DELETE, DDL or some other database operation. Triggers are used to enforce data integrity rules, log changes, or automate certain tasks within a database."
      ],
      "metadata": {
        "id": "Ar0lUYflMK0V"
      }
    }
  ]
}