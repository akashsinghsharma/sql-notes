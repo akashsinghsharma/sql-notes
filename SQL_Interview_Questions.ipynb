{
  "nbformat": 4,
  "nbformat_minor": 0,
  "metadata": {
    "colab": {
      "provenance": [],
      "authorship_tag": "ABX9TyPzXmHdYxH7SSIh9pD0g/Jq",
      "include_colab_link": true
    },
    "kernelspec": {
      "name": "python3",
      "display_name": "Python 3"
    },
    "language_info": {
      "name": "python"
    }
  },
  "cells": [
    {
      "cell_type": "markdown",
      "metadata": {
        "id": "view-in-github",
        "colab_type": "text"
      },
      "source": [
        "<a href=\"https://colab.research.google.com/github/akashsinghsharma/sql-notes/blob/main/SQL_Interview_Questions.ipynb\" target=\"_parent\"><img src=\"https://colab.research.google.com/assets/colab-badge.svg\" alt=\"Open In Colab\"/></a>"
      ]
    },
    {
      "cell_type": "markdown",
      "source": [
        "**Important and common SQL Questions in Interviews**\n",
        "***"
      ],
      "metadata": {
        "id": "WzMkseFtgAZx"
      }
    },
    {
      "cell_type": "markdown",
      "source": [
        "1. What is SQL?\n",
        "\n",
        "SQL stands for structured query language. It is used to interact with databases, like creating table to\n",
        "columns, inserting rows to pulling different records with different conditions, executing queries etc."
      ],
      "metadata": {
        "id": "LApBbwCHXqvU"
      }
    },
    {
      "cell_type": "markdown",
      "source": [
        "2. What is a database?\n",
        "\n",
        "A collection of data in an organized manner and can be accessed in various ways. It is also the collection\n",
        "of schemas, tables, queries, views, etc. Databases help us with easily storing, accessing, and\n",
        "manipulating data held on a computer"
      ],
      "metadata": {
        "id": "V64taXciXwtw"
      }
    },
    {
      "cell_type": "markdown",
      "source": [
        "3. Does SQL support programming language features?\n",
        "\n",
        "SQL helps us in manipulating data in database. We can query, update, delete, create data in database but\n",
        "we can't program anything as it lacks conditional statements, etc. if else statement. This it is a command\n",
        "language not a programming language."
      ],
      "metadata": {
        "id": "etfFErKOX0tj"
      }
    },
    {
      "cell_type": "markdown",
      "source": [
        "4. What are the differences between SQL and PL/SQL?\n",
        "\n",
        "SQL is a query or command language, PL/SQL is a programming language. SQL is used to query data\n",
        "while later is used to create application. SQL tells database what do do while later tells how to do it. We\n",
        "can run multiple block of statements in PL / SQL but we can't do the same in SQL."
      ],
      "metadata": {
        "id": "NTnsONWsX6jg"
      }
    },
    {
      "cell_type": "markdown",
      "source": [
        "5. What is the difference between BETWEEN and IN operators in SQL?\n",
        "\n",
        "Between is used to check in between some range, like say BETWEEN 20 AND 30, which means anything\n",
        "in between 20 and 30.\n",
        "IN operator will check for me the exact values in a list."
      ],
      "metadata": {
        "id": "ZMYLxGmTX-ji"
      }
    },
    {
      "cell_type": "markdown",
      "source": [
        "6. Write an SQL query to find the names of employees starting with ‘A’.\n",
        "```\n",
        "SELECT * FROM Employees\n",
        "WHERE EmpName LIKE 'A%'\n",
        "```"
      ],
      "metadata": {
        "id": "2uRJbG7yYN2q"
      }
    },
    {
      "cell_type": "markdown",
      "source": [
        "7. What is the difference between CHAR and VARCHAR2 datatype in SQL?\n",
        "\n",
        "Char will be use to store character of fixed length. For eg say char(3) will store nothing other\n",
        "than length 3.\n",
        "Varchar2(8) can store anything like 5,6,7,8, or anything below."
      ],
      "metadata": {
        "id": "Ca8Ce5FeYRLv"
      }
    },
    {
      "cell_type": "markdown",
      "source": [
        "8. Name different types of case manipulation functions available in SQL.\n",
        "\n",
        "There is upper for upper case, lower for lower case and there is initcap for first ad capital and\n",
        "rest as lower case in a string"
      ],
      "metadata": {
        "id": "sIt76yolYVHU"
      }
    },
    {
      "cell_type": "markdown",
      "source": [
        "9. What do you mean by data definition language?\n",
        "\n",
        "Things like create, drop, alter, etc. Helps us in defining the data. Any function which helps in\n",
        "defining the data is called ddl or data definition language."
      ],
      "metadata": {
        "id": "Et4YYODhYh50"
      }
    },
    {
      "cell_type": "markdown",
      "source": [
        "10. What do you mean by data manipulation language?\n",
        "\n",
        "DML is used to access or manipulate data in database.\n",
        "Examples are insert, delete, update data or fetching data from database.\n",
        "- Note: Alter is used to alter, delete, add the attribute of relations (tables) in database.\n",
        "- Update is used to update existing rows or records in database.\n",
        "- DROP command in SQL removes the table form the database, DELETE command (DML)\n",
        "removes one or more records from the table, and TRUNCATE command removes all the\n",
        "rows from the existing table."
      ],
      "metadata": {
        "id": "5xn_abzsYoN2"
      }
    },
    {
      "cell_type": "markdown",
      "source": [
        "![image.png](data:image/png;base64,iVBORw0KGgoAAAANSUhEUgAAAysAAAGRCAIAAADq+7sxAAAgAElEQVR4Ae2da3Ac1Zn3+wu5fN39trtJcLbKC8nmFcluqiJiCHkrkZIALy/OAnIgJGwFjbJcHJuYOAYSGIWLjW9gcxG2wCFDbAQKJAID5lWy2YxALAohIcaDhRGsL9yEsksFVVKhqt+afmYeH/VMt1o9/Zw+58yfUslnTp9+zun/73lO/6dnbDwP/0EBKAAFoAAUgAJQAAroV8DHf1AACkABKAAFoAAUgAK6FKiZPV3TYR4oAAWgABSAAlAACkABHw4MSQAFoAAUgAJQAApAAd0KwIHpVhzzQQEoAAWgABSAAlAADgw5AAWgABSAAlAACkAB3QrAgelWHPNBASgABaAAFIACUAAODDkABaAAFIACUAAKQAHdCsCB6VYc80EBKAAFoAAUgAJQAA4MOQAFoAAUgAJQAApAAd0KwIHpVhzzQQEoAAWgABSAAlAADgw5AAWgABSAAlAACkAB3QrAgelWHPNBASgABaAAFIACUAAODDkABaAAFIACUAAKQAHdCsCB6VYc80EBKAAFoAAUgAJQAA4MOQAFoAAUgAJQAApAAd0KwIHpVhzzQQEoAAWgABSAAlAADgw5AAWgABSAAlAACkAB3QrAgelWHPNBASgABaAAFIACUAAODDkABaAAFIACUAAKQAHdCsCB6VYc80EBKAAFoAAUgAJQAA4MOQAFoAAUgAJQAApAAd0KwIHpVhzzQQEoAAWgABSAAlAADgw5AAWgABSAAlAACkAB3QrAgelWHPNBASgABaAAFIACUAAODDkABaAAFIACUAAKQAHdCsCB6VYc80EBKAAFoAAUgAJQAA4MOQAFoAAUgAJQAApAAd0KwIHpVhzzQQEoAAWgABSAAlAADgw5AAWgABSAAlAACkAB3QrAgelWHPO1rsCf/3j4jf27psZWV/ac//zus/EDBaCA2wpU9pw/Nbb6jf27/vzHw61vIIgABQxRAA7MEBBYRlIFXtt7Z2XP+a//bv07B4ffnSn7b/+n//bT+A0FoIDDCrw7U37n4PDrv1tf2XP+a3vvTLpZYBwUMFsBODCz+WB1igJ/+dPM1NjqI89c9+5bv/T/Zxw/UAAKtJsC7771yyPPXDc1tvovf5pR9gY0oYCVCsCBWYmtPRc9Nbb6zd9v9v/nSfxAASjQzgq8+fvNU2Or23MbxFW7pAAcmEs0Xb6W1/beeeSZa/3/HsMPFIACUODIM9fi40iXd/z2uDY4sPbgbPlV/vmPhyt7zn93etT/7zJ+oAAUgALvTo9W9pyPL+ZbvrW3+/LhwNo9A6y4/jf273r92Rv8P/yH/4df1n/QJimgA3Ro0xx4/dkb3ti/y4odDIuEAk0VgANrKgs6zVJgauw777zyY/8P/44fKAAFoAAp8M4rP54a+45ZWxVWAwUWogAc2ELUwticFKh+BPnmo/4ffu7P/By/oQAUgAL+H37+7puPVvacn9OehGmhQAYKwIFlICJCSCvw/O6z/ZlR/w+j+A0FoAAUYAWqOwP+gwLWKgAHZi26dlp4dZ9963F/5vG5v/c09NAY9EMHNVuQD87mAxxYO90HHLxWODAHobp3SYEDe8yf2eO/hd9QAApAgZoCcGDu7fZtdUVwYG2F29aLDRzYI/5bj/pvPVL/QZukgA7QoX1zAA7M1j0d6w4UgANDIligQODAdvtv4QcKQAEocFQBODALtm8sMVoBOLBobXDEGAWq++z0Q/iBAlAACqgKwIEZs0ljIWkUgANLoxrO0axA4MBG/OnQz88aemgA+qGDmirIB2fzAQ5M81aM6bJVAA4sWz0RTUSB6j775oP+mz/FbygABaAAKwAHJrLhIqguBeDAdCmNeVpQIHBgDwTb7gP+m/TzYL2BfmiCHGjTHIADa2Fbxan5KwAHlj8DrGBeBar77BvD+IECUAAKqArAgc27eWKAyQrAgZlMB2urKRA4sPv9N/ADBaAAFDiqABwYbhJWKwAHZjW+dll8dZ99fch/Y6j6m37Qhg7IgbbPATiwdrkHOHqdcGCOgnXrsgIHtst/417/dfyGAlAACtQUgANza6dvu6uBA2s75DZecHWffe3H/us/xm8oAAWgACsAB2bjfo41swJwYCwFGuYqEDiwe/zX7/Ffw++UCow/+oNFyn9nnnbSzAvbGvWcHN+8pPPjysBF44/8QFV+8qnagFC/OqaxPe/ssy/vWN73f4e2r2w8t2nPQsc3Xqloz+wrO5YXgstBxkoqAAdm7q6NlSVQAA4sgUgYkrcCgQP7kf8aflIqsPZ756umitpLOj8+Ob6RVZ19+c7lhTMahy1atGh54YzZl++kkZPjG8mijT/Sz+fGN+adfaYycOZpJy1atGho+4r4UHR0oeOTxMxwjOHLy/BKcw8FB5b33oz5W1IADqwl+XCyHgUCB3a3/xp+0igwOb4h9FiLbVZgrQZJ2LXf+yr3NzbWfu+rNIyjjT9STEKExzfG5NlnKrfXHdi3ksRc6PgkMTMcY/jyMrzS3EPBgenZgTGLkAJwYELCImyWClT32VfvmvuzY+5LPop+kuKoDuO7ryb3M777av/VWv/aq85btGjRks4TJp+80X/1rskn1y/pPEEZVtNzfPc11KmMvJFGBtFYdm4cnZcAzZ29NkyZfT0PYItG65zZd8uZpy3hzjNPWzKz7xb/1R1R4/1X76KwdMrQtuXBAqrrGdq2fNGiRWeetuTF8Rs5Jg2gQ4oUR9ffLFp1/ZNPHlWAx7A+Ecu7K9S/9qrz5ibw0XnRP1cBypnm+sCBZbnPIpZ2BeDAtEuOCReuQODA7vRfxU8aBcZ3f59MyfLC6bNTA01lHNp2KY0Z3/390IDJJ9eR5Rradqn/6p38snFk6ER6Oe/sPIDN1vju78/s28pWifsDE7a16fjZqYHlhdN5JDXWXnUurYGvLjTg68s+p/ZQfP/VO+OjsQLquXUPt67p8ho7Fy1axMtrqhs6kygAB7bw3RRnGKQAHJhBMLCUKAWq++yR7fhJp8DsS7ctL5ym2oXqA5snblCjrb3qK8H3vU6bfek2td8/sp1PX3vVV/wj2yefuKH2DOzh74VGNn3Jp/MCGmef2Xcz+a2hOy6hIEN3XKKuZ/zh79Hp48GkUeM5Mo3nlxQtMD1zLmHRokUUkAaExvPLUDRWIHBsN/tHtnN8Wn/j8kLyhqZrqhs6kygABxa1Z6LfCgXgwKzA1O6LDBzYNv8IflIqMLPvpjNP+zR7IG6MP3wVqapYhFtDOs++dCsZuMCBbZt84vq6A6udGxrf+HLe2XnA0B0Xh07n2esOrDppaDyPoRX6R7ZxDwUcuuPi2jOqJ65Xjy4vnDb7UvV61Yvic6Oi8WBebWg9oZf+kW0kb90CpoQYUgYv/SPb4MDa/d5g+fXDgVkOsD2WX91nDw/gp0UFZg9sXd57KtuvmikZu84/PLD2ymXVZ069p84e2EqzrL1y2dAdF/mHB2ae33zmqVX3tvbKZf7hgcmx6+oO7IoFrSdmdp6CZvQPDzQOrjuw6qSh8fxSvTRq05qH7rio+j2wUz898/xmNTgdDV3UvNEaFeBTQorx5fAptKrq07VA9gUJiMGNCsCBtccdwNmrhANzFq1LFxY4sNv8w7f7h/E7GwXGH15DbmDojn/zD982dMe/0cvxh9f4h2+feX4jua4lnR3/99QT1ZGTY9cu6ewIPr+rjkxHJDT7zPObzgxmCRZTjUmOsG4Kt/D48Yev8A/fFhrPq6V1qr8Dj1W7usCBbfQP3z574GZyonTUP3z75NgP6hd1xbzRGhWIWg9pyyrxVdAKeT3pNMRZ/uHb4MBc2ufb8FrgwNoQun2XXN1nD93iH761+pt+0E6mw+yLm5f3fil4AnTizN71rOHkWJE8x9orz/EP3TI51k8vA2v1Xf/QLTN715MrqtuFE2ee3xCMrJ04/tDqeVmEZ6+vWZm9R51raKDPP3QLn0Uv/cO3jj+0mpYx/vCctYXG07XwNXLODA30HVVAic/jeT3jD3+XZ197ZXVtjdfIWlUVCPKQtaL1hF42roenq10gcruZzo26NbKAA7NvN8eKFQXgwBQx0DRVgcCBbfUPb/UP4feCFRi6o+o/ov4bf3g1qbr2ynOixlT/rdSBPtJ/cuwa9mqh8WeeeuLM8zeGGCWZfeb5G2vPwIJZZl/cRK5xee+XZl/cNHug9jJwh9XVhsb7h7bSLEs6OybHrvEPb+VF0tXR0ery9t7oH97K8QMHVtWz6fioaEcHVx1YNSdD65nZW7+cO/r8Q1t5/dXLObBJHV9dALK6BQXgwEzds7GuRArAgSWSCYPyVaC6zx682T90c/j3wYYeGoN+RYfZFzcuv/CLIbdEL5df+MXZFzeSqrOTkcOCB0idM3vX+gdvnhy7OtqB1cZUA9Z5JZk9NPX4yOVDA4WmCx5/6HL/4M2N42f2rj3z1M7QKXx1Q7dXo515aufM79f6h4LTe6uCrL2ylleT5dpFUfyZ30dEm6xqxQqMj1xOOcnjh24vqPFpPeMPXT4+cnlobcGX8Domy1fPyWpFN/TPUUDJZ7UfDizfnRmzt6gAHFiLAuJ0HQoEDuwm/9BN/sHNwW+0F6zD+EOrQiZg/KFVjXpOlr8fMlhf7zmFTgwczPWTY+EBHLY6YO8NjTH9gzdFzH6U4/jI0eUN3d7rH7pp7ZVn8byHJ/qX1zzTWRS/cbx/cDOfErirs/yDtfhDA711B3a9f+im2ckNSrTqmMny9+iqVU0aotU0DxT4X9UHciOrKCdn9t5A/m/o9gspP9XrHRro9Q9u5jF8UVFaIc+T1zgcmI79F3OIKQAHJiYtAmenQODANvoHN/kH8TsHBWZ+f92Zp3ZW7QX0hwImKQAHlt0ui0g5KAAHloPomHKhCgQObIN/ED9QAApAgaMKwIEtdC/FeKMUgAMzCgcW01yB6j77XzfiBwpAASigKgAH1nzHRK8lCsCBWQKqvZcZOLB1/n/hBwpAAShwVAE4sPa+M1h/9XBg1iNshwuo7rOv3IAfKAAFoICqABxYO+z/Dl8jHJjDcN25tMCBXee/cr3/Cn5DASgABWoKwIG5s8u35ZXAgbUldtsuurrPvvwD/EABKAAFVAXgwGzby7HeOQrAgc2RAy/MVCBwYP3+y/iBAlAAChxVAA7MzB0bq0qoABxYQqEwLE8Fqvvs1DVzfl6e+5KPop+kgA7QgYti6hrf0XyAA8tzX8bcLSsAB9ayhAggr0DgwK72X77an8JvKAAFoEBNATgw+d0XMwgqAAcmKC5CZ6VAdZ996Sp/6nv4DQWgABRgBeDAstpjEScXBeDAcpEdky5MgeAZ2JX+1JX+S8HvKbShA3IAOXAlHNjCdlKMNkwBODDDgGA5zRQInoGt8V/CDxSAAlDgqAJwYM32S/RZowAcmDWo2nmhgQP7rv8SfqAAFIACRxWAA2vn+4ID1w4H5gBE9y+hus8e+E7wc3m98R3/ANrQBDnQ1jkAB+b+7u/0FcKBOY3XlYsLHNiqwHLhNxSAAlCgpgAcmCt7fJteBxxYm4K367Irj5337v4V/ouXKT/fVtroVxWgNvSBDmpWOJgP7+5fUXnsPLu2MqwWCqgKwIGpaqBtqAJT5cveee4i/8WV+IECUAAKkALvPHfRVPkyQ/csLAsKJFAADiyBSBiStwJv7N/5+viF/uS38AMFoAAUIAVeH7/wjf07896cMD8USK8AHFh67XCmNgX+/MfDlcfOffeFS/zJ5fiBAlAACrz7wiWVx8798x8Pa9uFMBEUyFwBOLDMJUVAEQVe27vtyBMX+vsv9icv8fdfEvxGGzogB9o0B448ceFre7eJ7DUICgV0KQAHpktpzNOyAlPllW8+dYE/ebG//6L674uUNvpVBagNfaCDmhWO5MObT10wVV7Z8o6CAFAgZwXgwHIGgOmTK/CXP81MlVceeeIb7+7r8/d/03/hm/gNBaBAWynw7r6+I098Y6q88i9/mkm+dWAkFDBTATgwM7lgVZEKvLZ3W+Wxc19/8oJ3nv3Gu5WC/0Kfv78Pv6EAFHBYgXcrhXee/cbrT15QeexcfPgYuTnigG0KwIHZRgzr9f0///HwG/t3TpVXVh477/ndZ+OnrRS46NyPttX14mKf33125bHzpsor33hhJ756jzuASwrAgblEE9cCBdxXwPM89y8SVwgFoEAbKAAH1gaQcYlQwCEF4MAcgolLgQJtrQAcWFvjx8VDAesUgAOzDhkWDAWgQFMF4MCayoJOKAAFDFUADsxQMFgWFIACC1QADmyBgmE4FIACuSoAB5ar/JgcCkCBzBSAA8tMSgSCAlBAgwJwYBpExhRQAApoUAAOTIPImAIKQIHMFIADy0xKBIICUCBXBeDAcpUfk0MBKLBABeDAFigYhkMBKGCoAnBghoLBsqAAFGiqABxYU1nQCQWggHUKwIFZhwwLhgJtrQAcWFvjx8VDAYcUgANzCCYuBQq0gQJwYG0AGZcIBdpCATiwtsCMi4QCzigAB+YMSlwIFGhzBeDA2jwBcPlQwDIF4MAsA4blQgEoEKEAHFiEMOiGAlDASAXgwIzEgkVBASiwYAXgwBYsGU6AAlAgRwXgwHIUH1NDASiQoQJwYBmKiVBQAAqIKwAHJi4xJoACUECLAnBgWmTGJFAACmSkABxYRkIiDBSAAjkrAAeWMwBMDwWgwIIUgANbkFwYDAWggLEKwIEZiwYLgwJQoIkCcGBNREEXFIACFioABzYH2imnnFJTBH9AASgABaAAFIACmSpwyimnzLnptveLmrTtLcLRq8fb66NaWNsCRGvRJVo4+CaSydpB4GstukQLB19VJjgwVQ0fyTFHDjtfAKKd3JKuGnyTKmXnOPC1k1vSVYOvqhQcmKoGHNgcNSx9gQq3FFzCZYNvQqEsHQa+loJLuGzwVYWCA1PVgAObo4alL1DhloJLuGzwTSiUpcPA11JwCZcNvqpQcGCqGnBgc9Sw9AUq3FJwCZcNvgmFsnQY+FoKLuGywVcVCg5MVQMObI4alr5AhVsKLuGywTehUJYOA19LwSVcNviqQsGBqWrAgc1Rw9IXqHBLwSVcNvgmFMrSYeBrKbiEywZfVSg4MFUNOLA5alj6AhVuKbiEywbfhEJZOgx8LQWXcNngqwoFB6aqAQc2Rw1LX6DCLQWXcNngm1AoS4eBr6XgEi4bfFWh4MBUNeDA5qhh6QtUuKXgEi4bfBMKZekw8LUUXMJlg68qFByYqgYc2Bw1LH2BCrcUXMJlg29CoSwdBr6Wgku4bPBVhYIDU9WAA5ujhqUvUOGWgku4bPBNKJSlw8DXUnAJlw2+qlBwYKoacGBz1LD0BSrcUnAJlw2+CYWydBj4Wgou4bLBVxUKDkxVAw5sjhqWvkCFWwou4bLBN6FQlg4DX0vBJVw2+KpCwYGpasCBzVHD0heocEvBJVw2+CYUytJh4GspuITLBl9VKDgwVQ04sDlqWPoCFW4puITLBt+EQlk6DHwtBZdw2eCrCgUHpqoBBzZHDUtfoMItBZdw2eCbUChLh4GvpeASLht8VaHgwFQ14MDmqGHpC1S4peASLht8Ewpl6TDwtRRcwmWDryoUHJiqBhzYHDUsfYEKtxRcwmWDb0KhLB0GvpaCS7hs8FWFggNT1YADm6OGpS9Q4ZaCS7hs8E0olKXDwNdScAmXDb6qUHBgqhpwYHPUsPQFKtxScAmXDb4JhbJ0GPhaCi7hssFXFQoOTFUDDmyOGpa+QIVbCi7hssE3oVCWDgNfS8ElXDb4qkLBgalqwIHNUcPSF6hwS8ElXDb4JhTK0mHgaym4hMsGX1UoODBVDTiwOWpY+gIVbim4hMsG34RCWToMfC0Fl3DZ4KsKBQemqgEHNkcNS1+gwi0Fl3DZ4JtQKEuHga+l4BIuG3xVoeDAVDXgwOaoYekLVLil4BIuG3wTCmXpMPC1FFzCZYOvKhQcmKoGHNgcNSx9gQq3FFzCZYNvQqEsHQa+loJLuGzwVYWCA1PVgAObo4alL1DhloJLuGzwTSiUpcPA11JwCZcNvqpQcGCqGnBgc9Sw9AUq3FJwCZcNvgmFsnQY+FoKLuGywVcVCg5MVQMObI4alr5AhVsKLuGywTehUJYOA19LwSVcNviqQsGBqWrAgc1Rw9IXqHBLwSVcNvgmFMrSYeBrKbiEywZfVSg4MH/9+vXve9/7Nm/e7Ps1B7Z58+b3ve9969evV5VC22QFANFkOq2vDXxb19DkCOBrMp3W1wa+URrCgflvv/32Mccc8/73v/+v//qvPc/7q7/6q/e///3HHHPM22+/HaUa+k1TABBNI5LtesA3Wz1Niwa+phHJdj3gG6UnHFhVmdWrV7/nPe+paeF573nPe1avXh0lGfrNVAAQzeSS1arANyslzYwDvmZyyWpV4NtUSTiwqixvv/32e9/7XnZg733ve/EArGm6mNwJiCbTaX1t4Nu6hiZHAF+T6bS+NvBtqiEcWE0Wduh4ANY0UazoBEQrMKVeJPimls6KE8HXCkypFwm+jdLBgdU0YYeOB2CNWWJLDyDaQirdOsE3nW62nAW+tpBKt07wbdQNDuyoJqtXrz7mmGPwDbCjiljYAkQLoS1gyeC7ALEsHAq+FkJbwJLBNyQWHNhRQd5+++0vf/nL+AbYUUUsbAGihdAWsGTwXYBYFg4FXwuhLWDJ4BsSS9aBbf/VdcWRXvxIK7D9V9eFuGb1EgSl2VF8OYLxmQC+4KtHAbdnQf2Cb/xOG3VU1oEVR3qfe/XZ3736LH6LKlAc6Y0C3GI/COrJXjmC8QkAvuCrRwG3Z0H9gm/8Tht1VNyB/ebIxG8OP43fogrI1X9xpFd05cgNUkCOYFTlUz/46slA8NWjc16zgG9eyuuZV46vuAP79eFx/EgrIJcfxZFe6cUj/q8Pj8sRnNeBQX8NCoCvBpFznAJ8cxRfw9RyfMUd2H8eKv/nwV/ht6gCcvlRHOkVXTlygxSQIzivAwNfDQqAr9uVDr7gG7/TRh0Vd2DjB/8dP9IKyNV/caRXevGIP37w3+UIRlU+9YOvnvQDXz065zUL+OalvJ555fiKO7CxV/5f+ZXH8VtUAbn8KI70iq4cuUEKyBGc14GBrwYFwNftSgdf8I3faaOOijuw/3jlUfxIKyBX/8WRXunFI/5/vPKoHMGoyqd+8NWTfuCrR+e8ZgHfvJTXM68cX3EH9ouXH/rF1MgvpoLf+bWv2HRZ7VLrf5z+lS88WvkJre3u0dv//vhF9SPVP//++EV3j95ePfryQ3RUHU/9JlwXrUEuP4ojvbmzo2u8YOW5KiDP8y5YeW5obeqYKsGfBwSD3Ltg5Xme5225b51p7Gg9cgTndWAhDXPRJ7oAq/vG3T+vlafKdMt96ygfTv/KFx/dN3zF5m97nnfFpm/nsv55NWxzvr+Yeqj5Drwv2IHr94VQGmy5P6jWKWUHnjveHNbg+4upkS3310oytFFfsblalT99ZucnT/4EH7pi02XkDaj/kyd/4qfP/HjeOqoSz8NLyPGtCRK/Tac+WhzpHZ160ISfNZtWMHtufPLkjz/wzI9Gpx7cMXrL3x9/LPdz46b7ruejp32le/e+IROupXENcvlhDsGvr/wKc+EGQ3ngmR998uSPcz83iODo1IN0Or9s1DDfHjmC8cVrCN8kBUhMmSDnA+UAFfiaTSvy5Rg1e5vzHZ16MH4HHp168Kb7ruey5QYBpfTgYo8SOcd+8I0i6Hnemk0rmhb411d+ZXTqQdq6+V6cI8SYqeX41lI9fptOfbQ40rvnwH0m/KzeeKnneas3XkqLGdl7z6nLPu953tdWnLPnwH13Pn7Th48/9tRlnx/Zew8NoPH/fPIJ9//6zsajJlyRuga5/DCH4NdWnON53qahfrrw+3995z+ffAIzVXk1Etxz4L7Q6ap6JrTlCMYXryF8G0tMBUpHaauigmX6nudR2YYK3ASm6hranO+eA/eFAIV2YAbKBd6YAOr+rGprQht8VQqbhvr53rrnwH3Mmu+/NODDxx975+M3EXq61apBjGrL8RV3YI8e2PXIgZ0Nv3c19NAYqf7LN17ked7lGy/mebc9vuHDx3/oS8s+97O9d297fCO3abU/3fvDLy373IeP/9D2xzeqI+vXIrXOdPHl8qM40hsolv/1fnXFWZ7nbRi6mtezYehqz/O+uuKsn+29m2Bte3wj833kwM7zV5wdnHLNIwd2KW01G/O/LiIuR3BeB8Z61nMvB3221wvwp3t/SOtRmG6go6ecduJnTjvxn07uuPfX26jnXy48ncr2p3vvvnzjxVTgc68CfE2p3/oOfBHnm7qv1mv5bK7fn+794b9cePq2xzc8emBX4/5cpwy+pvCtE6nuHhuGrqGdmWgq1X038/3qirM2DF3zyIGdQ7/e/k8nd1Bd89F6NPf5ijuwhyd/9FD9h9rqbzqk9giN//aGb3qe9+0N3+T4O5++7RMnfewTJ31s19O33b5n3aLjPvjFZf/7J88NPjT5Ixpz3re+7Hnejbuu4qMPKEc5Do+nnlz65e7fxZHeHK+LtX1o8keEY92uq3g9zOXuX91EKHc+fZuq/427riLo6ukck+OYkJ9yBOd1YCbowCh/8twgr4eJD9TL8+L+f1103Adv37Pu2xu+uei4D1512wouWy5w8FWJm1O/DIj5qjswHeXqDt0X1PQAXzP5qlzWBRvved/6MnFU92Gir/LdVb8R73z6NrWf84Q61fjc1jZebn8Wd2A/m9zxs8m7gt87cmxftqHX87zLNhR4Dfc8vTW4bf/jPU9vvW3PDYuO++AXlp1y/3N31Jd617nfWup53tpdV9y25/rg6GeDo/lfS6OecvlRHOmtC5IzxzqONbwe5nLXrzZ94qR//MRJH7vn6a3M92eTO9buuoKh10+/on66WRzlCKr7dWPbEL71Avzs/c8N1AHtOPdbZ9YL8ASVY0oAACAASURBVIZFx33gC8s+W9yxyvO8i/q/9oVln/3ESR9bu+sK6r//uTsu21Bg1moOGNJuc74/m9xRB3R0P7nn6S30xumep7c27s/1NKjWaT095uzP9QE570u0DPCt46jyoo333G+dSZ31l0vVMdyu34g/ds/TW+qdRjBV77NyfMUd2AMvbDPhZ8X6b3iet2L9N3gxWx/tP/a4D3T3fObe396qtmnAvb+9tbvnM8ce94Gtj/Y3HuUghjTk8qM40mvINS5bfobnedfv/A6v5/qd3/E8b9nyM1RYD7ywbcX6b3T3fObupzZ193yGoTeeznFMaMgRbHRdao8hfBtLTGXKR7f/ct3HT/roCUs+euxxH1i2/Azuv/e3tzYWuAlYeQ1tzpeqkouRZFHxcS2zYpQAVO/qSB5gVAN8VRwhmk3xLVt+Bt2O735q08dP+ujHT/ro3U9tUoMY1ZbjK+7Ahl+4fbhyW+6/l994ged5y2+8gFfSc+np3LPlkauPPe7vus45aedvt9Bqr/1x9S+3U0/jUROuSF2DXH4UR3pZMXVG/W3ide2Pv03r2fnbLV3nnOR5HvUQ3xOWfGTHUxt2PntzV0/1EP137c5Vw5Xbepb/n+rgoG3IFakayhFU/VZj2xC+Wx69plqAPSftfPZmonPtzurjLurhozvG1zPZ5TdewP07n715+fp/rZbz+n9VVTWn3eZ8h1+4PX4H3jG+/oSTPqJWKI0/9ri/2/LoNe28AzfWrNpjSP2GdlS6e/Zcenpor+b7L1U37d47ntpwwpKPnHDSR3aMrw/FaYf6rd2lVKgZtosjvUP7tty7b8tQ/Sev9iXrvla/Ix/9s2PJ8dufvGFo35bNu6/60HF/e/RAvdV/z4qhfVs2NTv6+XM+/aPfbMz9ukhPuf2dCNJl5sWO5j3n0lPrWI7++flzPl0KKGx/8oaOJccfPVBvfa4+oOnpxDff6yJt5QjGl7MhfOMLkI4SayrkDx33t5t3X9XYX8de+/OSdV8zZP9pc75D+7ZE7cCDwQ58b8QAItg0Pbj2Ub8m7M/qGvrvqf7bT2dfeip1Du3bUgx6QuV5zqWn3rtvy2CzrbtjyfGUGM7Xb02T+G069dHiSO+ufZt3Pr9pZ/Cb2upvbf0Xrav+g5zqf58758S7f3Pjzuc37dq3ecPD3w05sA/9w99s3L0m6qjneZ8758QfPrNO2/ppJfw7NK/c/s4Ec+d41iVfVPF5nnfWJV8M6dA4himffWn4dM/zri5dmvt1EVM5gvHFawjfDbvXfOgf/kbl+6Hj/nbDw98lvhuDo1RxUe2L131VPZ3aF607D3xz2W95p2L9m+7AP6zvwDQ+tA9fc8/ypv0El/KB44dm1Nzf5vUb2oevLlX/7afQ/rz9yWs7lhzHRcq1GeqnAR1Ljtv+5LXMNBRff78c35og8dt06qPFkd7S3hvxI62AXH7YTvBfLun+l0u6pfVvPb4cwfjitZ1v68rriQC+enTOaxbwzUt5PfPK8RV3YHf//nr8SCsglx/FkV7pxSP+3b+/Xo7gvA4M+mtQAHw1iJzjFOCbo/gappbjK+7A7nquHz/SCsjlR3GkV3rxiH/Xc/1yBOd1YNBfgwLgq0HkHKcA3xzF1zC1HF9xBzb4u6sHf/f9+g/aJEXGOsjlR3GkF+w05LAcwXkdGPiCL3KgxRxA/QYplPF9zZyYcnzFHdgdv71ioP6DNkmRuQ5y+VEc6RVa88Bvr8hcB3tjyhGc14GBr4Y8BF97azPJ/Qt8wTd+p406KuvAbv3F6uJIL36kFbj1F6ujALfYD4LS7Ci+HMH4BABf8NWjgNuzoH7BN36njToq68CCdwYTvo8fWQXk3oGBoJ7slSMYVfnUD77gq0cBt2dB/YJv/E4bdRQOTNYb6clLufrHHdp2glGVDwemhyzNIleh4KuTY9Rc4BuljBv9cnzhwODA4vZwODA9O4hchcfR9X3wBV89Crg9C+oXfON32qijcGBwYFG5Ue3HHVrPzoIdXI/Oec0Cvnkpr2de8NWjc16zyPGFA4MDgwPLPwfkKjyOLhy2rq+ogm9e904984KvHp3zmkWOLxxY/nff1rNKLj+CyC5I1LrIohHkCMKBiYJLGBx8Ewpl6TDwtRRcwmXL8YUDc8FeyOVHENkFiRJWWl7D5AjCgeXFVJ0XfFU13GuDr3tM1SuS4wsH5oK9kMuPILILEqnlZGBbjiAcmAm4wdcECnJrAF85bU2ILMcXDswFeyGXH0FkFyQyoYxj1iBHEA4sRnZth8BXm9S5TAS+uciubVI5vnBgLtgLufwIIrsgkbZaTTeRHEE4sHREsj0LfLPV07Ro4GsakWzXI8cXDswFeyGXH0FkFyTKtiAzjyZHEA4sc1gpAoJvCtEsOgV8LYKVYqlyfOHAXLAXcvkRRHZBohRVp/MUOYJwYDo5Rs0FvlHKuNEPvm5wjLoKOb5wYC7YC7n8CCK7IFFUaRnSL0cQDswExOBrAgW5NYCvnLYmRJbjCwfmgr2Qy48gsgsSmVDGMWuQIwgHFiO7tkPgq03qXCYC31xk1zapHF84MBfshVx+BJFdkEhbraabSI4gHFg6ItmeBb7Z6mlaNPA1jUi265HjCwfmgr2Qy48gsgsSZVuQmUeTIwgHljmsFAHBN4VoFp0CvhbBSrFUOb5wYC7YC7n8CCK7IFGKqtN5ihxBODCdHKPmAt8oZdzoB183OEZdhRxfODAX7IVcfgSRXZAoqrQM6ZcjCAdmAmLwNYGC3BrAV05bEyLL8YUDc8FeyOVHENkFiUwo45g1yBGEA4uRXdsh8NUmdS4TgW8usmubVI4vHJgL9kIuP4LILkikrVbTTSRHEA4sHZFszwLfbPU0LRr4mkYk2/XI8YUDc8FeyOVHENkFibItyMyjyRGEA8scVoqA4JtCNItOAV+LYKVYqhxfCxzY7OxYobC0tlDPK5X6UyjYeEqp1F8s9jX229gjlx9B5FYdWLHYx/gKhaWzs2MxIk9Pj3Z3d5bLgzFjGg9Rkiz0rMY4efXIEdTmwAhBVuUZAgG+8RyjjmZSv8RCreKOjsWVynCIUYqXtmPlS7a9fgkE79JCVcxycaNY7KO7sOG3Yzm+pjuwSmW4o2MxJwTdnjNxToYj5xxN0pDLj9Z3cK4xupBisa+7u3N6ejTquuDAou6mEv2t82WOcGAsRWNDrkLjsyITvo27brk86Hle62944MDi8c17NBO+cjfZxkKI6jH8dixXv0Y7sKZ7eqUy3NX1qUpleHp6tFBYunHjSs/z6MkK7RR0SapLU9+9seOmYfxIplTqp56s3t5FpZpEv1x+tFjhjXYq1NMo+7wDfH8iBFp9A8dmXUJnuZhyBOM38Rb5qoKo1To9PdrT0zUwsIZqSvXcXIxqZwgohS2V+jduXNnd3el53hlnfIZCgW880NDRTPiG3kQxHdpLG/dhRux5Hu/DxWIf0yT35kDZcv7bW79q2fLl8E3W9ydUTEyTCvzBBzd0dCym++/Bg7upVPkGSqaKk6FcHuTdnuNQanE/3455JYY05PjStuaF6jarly3Wv5oHjSRo12aW6p1bzapisY+5qm/dVNNdKvWrY9R7Q+O8BvbI5UeLBAkEaxuSrqnsKsemA1S43KZG62/KQyvU9lKOYHwtt8hX1YdZsEUm7tRPdaoC5bZKXA1SKvXzbg6+8RyjjrbOl+61MZ85hvbhqP22WOxjmqVSP+2xtmPl/Le3fuNvsmrxqm2CTgVObYbLfp18Fe3J1KZNQJ1RHcy3clbVnIYcX6MdWLk8GGOG1I3b9ydUR+X7E5XKcE9PV+jTLvUUHt+4xRSLfXa91ZbLj0x2cHpvRKnGJilKdmYUNaBpVti+lcsRjLo3U3/rfHmXJARUOAyRjrLZ4gafFVO56mDwjecYdbR1vk03UhVfiHXUIb7X0uZMn2PYjpUv1t76bbqd8nWFjrJ5CkFX4ZbLg+TM1PrlE/mhGt0I+ES+HfPURjXk+LrjwPhpZ+2SPE91b/yck7++wMjpU3A+ixpwYJnfoVln4sIvVeVLpX6u7agBamFzldq+lctVeNS9OXO+SRwYwfU8j98x+/5EVOWqoME3nmPU0cwdGH2MQDVLhcwFy8VIrprrOnSvhQOLgpWiv3W+IY+lQiSO6icY/K44BF19ZhHlwPiBiFrLcGC1MknBPskpLeaHapxDmcGfdPAzFWYZGkneq3GzUB0YvSELnWjRS7n7d4sEGzXk+3QUXK7tqAHqjZnjq1XNnRY15AjG12mGfJlsY22GkNFIr/4eKaZyefcH33iOUUdb58s33VA18Z2bC5YGRO23KmUubduxsib21i+z4GtRG6HK5WQIQYcDiyrAefuNdmDqns5pwey5QYdCuUKdoQpXT2EHpnbyLHY15Oq/xR2ct2lVT9qLo2Tnfm6o5/r+RNOYIdChU8x/KUcwfgtoka8qrFqtIXZNa5PHND0aev8NvvEco45mwlc1T0ycy5A5hj5gChlxNQjf9W3HymrYW79q2fLlMFOmTIcYHA+gfjiwqAKct99oB0bPqxv/NQr1C4D8DIxygj89pG39rbd+XigspU5KtcZPIWmv548sQ7nFSWlyQ67+W9zBSXN+kqF+ABElu6o/f2NX3c1DWwbt7NTJyWAyrKZrkyMYvwW0yFe9FpWLClH1UqrZ4s29aeXOzo6pg8E3nmPU0Uz4EiD1i9L0DYHGDxbUHKA277dwYFGMWunPhC/R5Fsn4aZNmyASerUdKnA4sNQQTXdgfOutLVT5F1lDScB2jUbyXV/9OtGePbcUCkv5b2R0dCxm46V+GcW6G7nc/TuTCle1ZcHp5q0eItlDWBsHhFKCQat/3UZ1Bla05QjGbw2Z8CWF1btvCCJ7Kb4rh74KphapCpTbZOPUf93ACqy8SAf4qpXIvoqLkfdMFaW63zZ1YLZjdYYvFWzjTZafa9IhduGhAm/dgVHahO4OLG/uDbn6rWkev02nPprh/p47A5MXIJcfIKiHuxzB+OIFX/DVo4Dbs6B+wTd+p406CgfW6v9yx4TMk6t/3KH18JUjGFX51A++4KtHAbdnQf2Cb/xOG3UUDgwOLCo3qv24Q+vZWbCD69E5r1nANy/l9cwLvnp0zmsWOb5wYHBgcGD554BchcfRhcP2NaEH37zunXrmBV89Ouc1ixxfODBNW7Bo6sjlRxDZBYlE9W89uBxBOLDW6bQeAXxb19DkCOBrMp3W1ybHFw7MBXshlx9BZBckar0IRSPIEYQDEwWXMDj4JhTK0mHgaym4hMuW4wsH5oK9kMuPILILEiWstLyGyRGEA8uLqTov+KpquNcGX/eYqlckxxcOzAV7IZcfQWQXJFLLycC2HEE4MBNwg68JFOTWAL5y2poQWY4vHJgL9kIuP4LILkhkQhnHrEGOIBxYjOzaDoGvNqlzmQh8c5Fd26RyfOHAXLAXcvkRRHZBIm21mm4iOYJwYOmIZHsW+Garp2nRwNc0ItmuR44vHJgL9kIuP4LILkiUbUFmHk2OIBxY5rBSBATfFKJZdAr4WgQrxVLl+MKBuWAv5PIjiOyCRCmqTucpcgThwHRyjJoLfKOUcaMffN3gGHUVcnzhwFywF3L5EUR2QaKo0jKkX44gHJgJiMHXBApyawBfOW1NiCzHFw7MBXshlx9BZBckMqGMY9YgRxAOLEZ2bYfAV5vUuUwEvrnIrm1SOb5wYC7YC7n8CCK7IJG2Wk03kRxBOLB0RLI9C3yz1dO0aOBrGpFs1yPHFw7MBXshlx9BZBckyrYgM48mRxAOLHNYKQKCbwrRLDoFfC2ClWKpcnzhwFywF3L5EUR2QaIUVafzFDmCcGA6OUbNBb5RyrjRD75ucIy6Cjm+cGAu2Au5/AgiuyBRVGkZ0i9HEA7MBMTgawIFuTWAr5y2JkSW4wsH5oK9kMuPILILEplQxjFrkCMIBxYju7ZD4KtN6lwmAt9cZNc2qRxfODAX7IVcfgSRXZBIW62mm0iOIBxYOiLZngW+2eppWjTwNY1ItuuR4wsH5oK9kMuPILILEmVbkJlHkyMIB5Y5rBQBwTeFaBadAr4WwUqxVDm+Rjuw2dmxQmFpbYn1P8rlwRQKun2KXH4EkeHAxBWQI6jNgVG1hsqzXB7s7u6cnh5NWIClUn+hsHR2dixqfLk8GD8g6sR8++3l23QTzhZBpTLc1fWpSmU4X0atzN5ufKenR7u7O8vlwcZGKzIamwlyfC1wYOqeXqkMd3QsVnta4e3MuXL5EUQW9x/OgEh9IXIE4cBSQ8nwRHv5Nhpr6ikW+7LSx9j7bvILbDe+jcaLe5KL1jjS2EyQ42uZA/P9CX5XPT09Wigs3bhxped59J6MkoAuqVTqJ8ClUn+x2Fcs9lG/k+5NLj+CyHBg4grIETTEgU1Pj/b0dD344IaOjsVcsFShXLYdHYtXrTqfn6+Uy4O17cnz6EEa9/BztVKpn8Z0dCw2+SGKvXwbHZi6Cfv+hPqQjNnRlsu3WNqEQ4PZw6n3XUJMuzcnhud5PJhjGtVoE75Mgf1WqMH3Wc4E35+g5yaNdar2E/GoTMidtRzf2hYXv02nPhqsO/3dq2nx01ZeqQwT+1BOqKVLbdqjGbCTj9Dk8qNFgrlXji0LkCMYX7wZ8m1arer7pe7uTnZOxWKf+q5JLU/qL5cH2VSpla5+Cql+ZMkTmUncXr7xWOko4fP9CTZeKg6OQA3asdU233cbodMb5tAsBiJ2m28jspDx4o8jGwtc/diKOKqFT3w5WtNMMAG3HF/7HBhRZOT8TEvdjtV3aaF+3iNM4JrVGuTyI4ic3kNndYHOx5EjaJQD42pVt1retX1/IlStzJ3Llh0YvxNTx7AV4E5DGvby5f2WlaQeuiszDjrKUPieSo9Aenq6pqdHVVtG/fT1L0oGej7KGcKPzShypTJMQXgZRjUc5quWJ5ct821sMK+m3+3jAueGyrFpJqgD8mrL8XXHgfEezRlAFRuq5Kbg8+Ka1bxy+RFEhgMTV0COoDkOrKeniz8o5I07VI+hO7r6OUXolq8equ1ingcHFsLdev2S32KFqUEsyDGHDvGTS96QeQcOsWa7xijVmz1/nsXx1aNZ7ZxZxbG3fuflq36eyMi4ftVG0wInhWkYoaSAnB4qgqaZoA7Iqy3Ht5beobrN6mWL9d/49sv3JxqTgKiEiPJ7Jq5/GhbaBfIimu28cvnRIsFsL9PhaHIE42s5Q75Nq5Ufe3DZEkTeuEP1yA6M92J6KMLVrQ5o+ibbzCSxl28Ia6nUzx4r5pklfwpx8ODuQmEpQQyx5pQg1uXyIFNWP9A0E2hoVW3Cl5Fx/aqNpg6MvRe9O+IcUFmzmE0zgY/m2JDja58DU/d0+guxBIbR0kseFupvCj5HtJlMLZcfQWTxJ0CZiGB1EDmC2hwY3TVDT6G4+ninJkz8cQbXKfXz+NAbJy5bdmChgIbTt5dvyIERZX4cFcKnUiBAAwNr+NPD0GDOAbXB39PlTFBjGttuE75MiquvsUGMeCQXLPUzVm6oTPkstmLq0Rzbcnwtc2AqGGZPYOgl3QDUNn0Tn96EMeAcWUpMLZcfQWQ4MHEF5AjqdGDqN6npcXV3d6dakvyJBjsqusHTGKpuGqNu0FTCoU8h6QEMW4HQbiBRZa3EtJdvowMjqQkTHeUPJUMeiz5JZOjqYLWtbsulUj8xVffw+IdtrXDJ6tx24Ksi43ILNRqzQk0J+ouuNIZP5L8hWyr1N82ErBi1EkeOrwUOrLbE4A/1AbiKkMSlHhrP78VLpf6enq6eni7q5296tsLDtHPl8iOILO4/TNNT/3rkCOp0YKG/ee55Hpcb1SZ/uYfvymzUvOCfnNi4caW6iVPNFot9oRsz7wMcUJ1LP755Z7SXL913mSNdKXllMl7qrsuGmIap/7QE9VA0xsrR+ANl9TZPs9BgNWHoLKN+O8y3KTK++aqNnp6ugYE1jby4SAuFpXv23MLFq/KlXFIdmJoJubOW40tyefHbdOqjwbpzvn+rb6ZzBym0ALn8MIGgkGhGhZUjGF+82vjyTm2U7NoW4zxfbUqaORH4msklq1XJ8YUDy9kgZpIicvkRRHZBokx0lgsiRxAOTI5a8sjO800uhZMjwddJrHxRcnzhwFywF3L5EUR2QSKuJTMbcgThwEwg7jxfE0TOcQ3gm6P4GqaW4+u+A9OAJ/cp5PIjiAwHJq6AHEFDHFjuNZLvAsA3X/2lZwdfaYXzjS/HFw5M/OaqIXXk8iOI7IJEGii0MoUcQTiwVrhkdS74ZqWkmXHA10wuWa1Kji8cmAv2Qi4/gsguSJRVKQrFkSMIByaEbEFhwXdBclk3GHytQ7agBcvxhQNzwV7I5UcQ2QWJFlRv+gfLEYQD00+zcUbwbdTEpR7wdYlm47XI8YUDc8FeyOVHENkFiRqLyqgeOYJwYCaABl8TKMitAXzltDUhshxfODAX7IVcfgSRXZDIhDKOWYMcQTiwGNm1HQJfbVLnMhH45iK7tknl+MKBuWAv5PIjiOyCRNpqNd1EcgThwNIRyfYs8M1WT9Oiga9pRLJdjxxfODAX7IVcfgSRXZAo24LMPJocQTiwzGGlCAi+KUSz6BTwtQhWiqXK8YUDc8FeyOVHENkFiVJUnc5T5AjCgenkGDUX+EYp40Y/+LrBMeoq5PjCgblgL+TyI4jsgkRRpWVIvxxBODATEIOvCRTk1gC+ctqaEFmOLxyYC/ZCLj+CyC5IZEIZx6xBjiAcWIzs2g6Brzapc5kIfHORXdukcnzhwFywF3L5EUR2QSJttZpuIjmCcGDpiGR7Fvhmq6dp0cDXNCLZrkeOLxyYC/ZCLj+CyC5IlG1BZh5NjiAcWOawUgQE3xSiWXQK+FoEK8VS5fjCgblgL+TyI4jsgkQpqk7nKXIE4cB0coyaC3yjlHGjH3zd4Bh1FXJ84cBcsBdy+RFEdkGiqNIypF+OIByYCYjB1wQKcmsAXzltTYgsxxcOzAV7IZcfQWQXJDKhjGPWIEcQDixGdm2HwFeb1LlMBL65yK5tUjm+cGAu2Au5/AgiuyCRtlpNN5EcQTiwdESyPQt8s9XTtGjgaxqRbNcjxxcOzAV7IZcfQWQXJMq2IDOPJkcQDixzWCkCgm8K0Sw6BXwtgpViqXJ87XBg5fKg53mlUr+qXbHYVyz2+f5EuTxYKCydnR1Tj7ZVWy4/gshwYOIKyBHU5sBmZ8cKhaW1DaX+R7k8GF+J09Oj3d2dMcOmp0d7eroqleH4OIYfdYCv4Qrnuzzb+RaLffWS9cy5mfItPgpuqdRPHiBqQFb9cnwtcGC0sxeLfd3dndPTo6wp44EDk8uPILK4/2CmbduQI6jZgaleqlIZ7uhYrPY08oUDiwfU4lHUb2PKSfRYXb98JyVlGm+1EoplEhMObJ79IZP6r1SGe3q6XnjhJ6H3ypQ39HjM8zz2Z6VSP/nKjo7F9NZ5enq0UFi6ceNKzzPI4GeSgrWaGemdh0Taw5kQzPBKXQ1l9Q5OUOidUshvlcuDXJjqQzJ+n606sMYBdJTKmSKrPXre/maScg7wzUQHV4PYy1ctQKKj9qglyR9DhRwb2yB1MBe4Spxu5Q8+uIEqWq1fvo/zXdv3J3iiUql/1arz+RE7fRrGN/qmc6nztt6W42vBMzAGzDxIUH6pPgMrlfqZB+/+lFIq79aRGBVBLj+CyHgGJq6AHMF4750hX9p/Qw6MP0Oko/xFAi5e3u5jBvCnkDzY9ydC442qx8bFOMC38aLQwwrYy5fqiG+afEVcYnzfLJX6yR7xjZXHlMuDoXrkAlcD0kNxmovGU/ByeZCNl9rmIGS2aG9RB7A3UGeRaMvxNd2BqXtupTLc1fUp/kYI42EHxts9MygW+0qlfjUIH3KpIZcfQWRx/+ESi3TXIkcwXwdG+2y5PMhFSvpwqXJtxgxgBxbacOkttfrNhHTiazjLAb4aVLJ3Cqv5Ug3WrIDnhd5EMRS+/3LN+v4E12BU/fLpNFi9g5OTO3Rod6GwlN+bqY+++BavPlhRZw9tCOpc2bbl+JruwFSuUS6bx5DF5kyiBhxY/D04/miQeXBg4grIVbg2vmy21L2PO/kjAy5PetfL+2nMAHZg6veFKQ5/xKlOamDbAb4GqmrOktzgyzfQUFlx3fGTKtUb0XOsqPpVGbFdo06ydOPjO0LfL2Jfpc7CT+l4x/D9CR6pziLRluNb2w/jt+nUR4N1p7970fbNW3Zoz2U8qgNTLTaTUJlxp0sNufxokaBLIoteixzB+OLNkC+bLVUoftalvosNDaD9N2aA6sD4MxE1iPltB/iaL3KOK3SJLxUyPZQi70Xuh5+B0b8/0N3defBg9fEVPTOLql8VChxY425stANTkRNI9W9XNTqwKKcV1a8mh9VtufrP8A5ttcLSi5cj2Fjzak+GfJs6MP7KCDdCSnJtxgxgB5Zklw/FN+SlA3wNUdLMZdjLt2nd0b2V3z6R5urtmMp2YGBNT08XfQ2gaZwQLDUC2zh8Clk1YeqmnGG7xf296YbLxosb/AyMHkvyE1Te3LkRSghnXsrVf4sEnVFY+kLkCMaXc4Z8Gx2Y+n6JjvITLN6vuTZjBrADo8H8lZGm+4M0qXTxHeCb7sLb5Cx7+VLd8Wd86re1uDZ9f4La/CkkfVtL/bcFoupXTQDaEGgToPFUy+qX69U23+LVSldXhU8h47d3v5X9PbTbMkgmxHhCycEfWnv1LxWqzDiOSw25+m+FoEsKS1+LHMH4Es2QL22p6ncG1P2aN/HQdwnU2qR2aADv9bRZ81dV1N1fmk7r8R3g27oIDkewna960+RHGPSYiuqR/mG/7u5Ofv/T+M+kR9Uvc6dnYKtWnU8x+f1YaKLGv2wX5cBoN1AXzHNl25DjS1IY+gwsWxEdjiaXH0Hk9N/kc1jzbC9NjqA2B5atII5FA1/HgIYukPBZYgAAGF5JREFUB3xDgjR9GfoUsukYMzvl+MKBuWAv5PIjiOyCRGYWNq9KjiAcGIucYwN8cxRfw9Tgm0RkOLDG3RgOzAV7IVf/QWQXJEqyQeQ4Ro5gY82rPeCrBzr46tE5r1nAN4nycGDq3kttODAX7IVc/eMOnWRnaX2MHMHGmld7wLd1dkkigG8SlewdA772skuycjm+cGBwYOodOdzGHTpJfbY+Rq7Cw0Tnvgbf1tkliQC+SVSydwz42ssuycrl+MKBwYHNvSfPfYU7dJL6bH2MXIXP5Rl+Bb6ts0sSAXyTqGTvGPC1l12SlcvxhQODAwvfldXXuEMnqc/Wx8hVuEqzsQ2+rbNLEgF8k6hk7xjwtZddkpXL8YUDgwNrvC8f7cEdOkl9tj5GrsKPsmzWAt/W2SWJAL5JVLJ3DPjayy7JyuX4woHBgTW7M9f7cIdOUp+tj5Gr8DrJ5n+Cb+vskkQA3yQq2TsGfO1ll2TlcnzhwODAmt+bqRd36CT12foYuQqPo+u39H+taP2q2ycC+LrNGnzBN36njToKBwYHFpUb1X44MD07C3ZwPTrnNQv45qW8nnnBV4/Oec0ixxcODA4MDiz/HJCr8Di6cNi+JvTgm9e9U8+84KtH57xmkeMLB6ZpCxZNHbn8CCK7IJGo/q0HlyMIB9Y6ndYjgG/rGpocAXxNptP62uT4woG5YC/k8iOI7IJErRehaAQ5gnBgouASBgffhEJZOgx8LQWXcNlyfOHAXLAXcvkRRHZBooSVltcwOYJwYHkxVecFX1UN99rg6x5T9Yrk+MKBuWAv5PIjiOyCRGo5GdiWIwgHZgJu8DWBgtwawFdOWxMiy/GFA3PBXsjlRxDZBYlMKOOYNcgRhAOLkV3bIfDVJnUuE4FvLrJrm1SOLxyYC/ZCLj+CyC5IpK1W000kRxAOLB2RbM8C32z1NC0a+JpGJNv1yPGFA3PBXsjlRxDZBYmyLcjMo8kR1ObAZmfHCoWl5fJgK+KUSv2FwtLZ2bFWghh4rgN8DVTVnCWBrzksJFYixxcOzAV7IZcfQWQXJJIoywxjyhGEA8sQU+pQDvBNfe3tcCL4uk1Zji8cmAv2Qi4/gsguSGT4BiFH0AQHNj092t3dSXtNqdTPLEqlfurs6FhcqQz7/oT6DKxY7ON+PsXShgN8LVVez7LBV4/Oec0ix9doB1Ys9tXWp/yhc1PO5IMVDUkjlx9BZDgwcQXkCObuwMh+kfFS2+XyYHd35/T0qO9PcJsdWLHY59LHkQ7w1bCP2TsF+NrLLsnK5fga7cBYmnJ5MJftGA4syDxx/8Gg27YhV+G5OzA2VQSXzNahQ7sLhaXq8zA6SoMHBtawOXMjJRzg6wYIoasAXyFhDQkrx9dKBzY9PVooLN24caXneYXC0mef3dnV9Sn6FMP3J4rFvmKxjz7RWLXq/EJhKV2kut3z0zXe6Mls8bO2Uqlf7aFz1Z5cHGFUOsrlRxAZDkxcATmCuTswrkfK3kpluKena//+B7q7Oxu/ts+fS1IJRyW8df0O8LVOc50LBl+dauufS46vrQ6su7uT9+hKZTjKgXmeR7t8uTzIH1+qb8qp/dZbPy8UlnLAUqmfBqvPwKjNNi50X9GfE+qMcvkRRBb3H+q1tGdbjqB1Dqy7u/OFF37S1J/ZmxsO8LVXfA0rB18NIuc4hRxfix0Yv4GOcWD8pIq+gFIuD3IjBicHVB1Y6JPQ6enRnp4ufvAWE03DIbn8CCLDgYkrIEcwdwemvuHhr3zFfwo5OztWKvXz82kNFSQ9hQN8pSWyOj74Wo1v3sXL8W07B8buqqno/Olk4zMw/nyEP6nkh2pNQ+nslMuPILK4/9CplZlzyRHM3YGp375X2/zte9+f4Kpku0ZvfvixtJnUkq/KAb7JL7YNR4Kv29Dl+MKB1ewFeS96Zsb3A/UZGN8bDEw1ufwIIsOBiSsgR1CzA+P3J9SgB9VkvKiHP8enb2ryeBqpVlmlMtzRsZgfdRtYd8mX5ADf5BfbhiPB123ocnxrG2D8Np36aLDuDO5ejZ8Aql8TYcNEScDf0FJ3c/7wkRtqxoQ+UuSAqgNT37Kr55rQlsuPrAiaoJLJa5AjGF+84KsnK8BXj855zQK+eSmvZ145vi44MPWjDXrfTB9eNHVgoX/1kXyV+jezKFrjp5Chj0WMMmRy+RFEzsBD66kTe2eRIwgHZkJWgK8JFOTWAL5y2poQWY6vCw6Mvt5LV1IoLB0YWBPvwOhfrKDx/F2ucnmQe8hd0ccl9PUvCkjmjIYZ9TVhufwIIsOBiSsgRxAOzO0dHHzB1wQF3F6D3P5MdsKLL+PUR3H/1pOXcvkBgrYTjC9e8AVfPQq4PYvcDoz6NSFz5PjCgYk/3tCQQHL5gTu0BnzVh7IjvfFbrdBR8AVfPQq4PQvqF3zTbdFwYHBgcZmDO7SenQU7uB6d85oFfPNSXs+84KtH57xmkeMLBwYHBgeWfw7IVXgcXd8P5s3/8vPaWLXNC77apM5lIvDNRXZtk8rxhQNz4fYjlx9BZBck0lar6SaSIwgHlo5ItmeBb7Z6mhYNfE0jku165PjCgblgL+TyI4jsgkTZFmTm0eQIwoFlDitFQPBNIZpFp4CvRbBSLFWOLxyYC/ZCLj+CyC5IlKLqdJ4iRxAOTCfHqLnAN0oZN/rB1w2OUVchxxcOzAV7IZcfQWQXJIoqLUP65QjCgZmAGHxNoCC3BvCV09aEyHJ84cBcsBdy+RFEdkEiE8o4Zg1yBOHAYmTXdgh8tUmdy0Tgm4vs2iaV4wsH5oK9kMuPILILEmmr1XQTyRGEA0tHJNuzwDdbPU2LBr6mEcl2PXJ84cBcsBdy+RFEdkGibAsy82hyBOHAMoeVIiD4phDNolPA1yJYKZYqxxcOzAV7IZcfQWQXJEpRdTpPkSMIB6aTY9Rc4BuljBv94OsGx6irkOMLB+aCvZDLjyCyCxJFlZYh/XIE4cBMQAy+JlCQWwP4ymlrQmQ5vnBgLtgLufwIIrsgkQllHLMGOYJwYDGyazsEvtqkzmUi8M1Fdm2TyvGFA3PBXsjlRxDZBYm01Wq6ieQIwoGlI5LtWeCbrZ6mRQNf04hkux45vnBgLtgLufwIIrsgUbYFmXk0OYJwYJnDShEQfFOIZtEp4GsRrBRLleMLB+aCvZDLjyCyCxKlqDqdp8gRhAPTyTFqLvCNUsaNfvB1g2PUVcjxhQNzwV7I5UcQ2QWJokrLkH45gnBgJiAGXxMoyK0BfOW0NSGyHF84MBfshVx+BJFdkMiEMo5ZgxxBzQ5sdnasUFha21Y8r1Tqj7lq35+Ynh7t7u4slwe5ET/e0qPO8LVUf+llg6+0wvnGl+MLB+aCvZDLjyCyCxLlW8Dzzi5HUKcDq1SGOzoWs+siU1Us9sVcPhsvbsQMtveQG3zt1V965eArrXC+8eX4woG5YC/k8iOI7IJE+RbwvLPLEdTmwOjpF9svuuRKZbir61OVyrDvT5A/ox2no2MxdbLx4sa8Wtk4wAG+Nsqubc3gq03qXCaS4wsH5oK9kMuPILILEuVSt8knlSOozYGpZqvxwsl+lcuDvj9BXq1QWDo7O8bGixuN5zrQ4wBfByjIXQL4ymlrQmQ5vkY7sNB3SmittHGbQMWcNcjlRxAZDkxcATmC2hxYuTzY3d05PT2apC5KpX44sHg0mRxF/SbJxtbHOFC/rYvgcAQ5vhY4MHrfTHTJk8V/s8ThPIi6NLn8wA4epXm2/XIE42/kGfJN4sDoQZf6VooffXEjW2ENieYAX0OUNHMZ4Gsml6xWJcfXMgfm+xPqRq8+JONnY9PToz09XQMDa+ja1Pfl5fJg7YI9j/tLpf5isa9Y7KND5fJgqdRPbdXqcSd/hSUruq3HkcuPILL4E6DWFbA9ghxBbQ4s/lNI9l70RTE8A4vnktVR1K+encGB+tUjlKWzyPGtGZKsCj4Up8X6J4OlPgNTHRgd5W/+koviv99Ohkx9ZlYuD7J5ovsBGSyyVjQLtalfvaPwDUNdgDnJJJcfLRI0RyLDVyJHMFSSoZcZ8g3VIwnOT7bK5UF+j+T7E1xQPIAbhpNKtzwH+Ka78DY5C3zdBi3H1zIHFnJU6p5Oj74qleHQVs57fShF2LGpA1TXRXPRv1TU09NFf3WLghSLfez8QmFzeSmXH0FkPAMTV0COYMhyhV5my7fpv0ZBRao+uqZH0dTP1cqNXCpIelI3+EqrZG988LWXXZKVy/G1wIHVllj/gz8Z5I8F60c8esQV2spVgxX6K/H8DIydXKUy3NPTRd8mZgem/i16ngsOLEniYkxCBeQqPGS5Qi+DebP0l1R9TcuEP+gvFJbu2XNLqFpDZZtQN1uGOcPXFsE1rxN8NQuueTo5vrWtMrQvZ/Wyxf2dPRDJXSr188eI6gcZIRihrZwdGBsp+sAx6hlYUwfG/6ZRaC5DXsrlR4sEDdHH/GXIEYyvZfDVkxvgq0fnvGYB37yU1zOvHF+bHJjvTxSLffwNevVzDRVDlAOjb9zzyOQOLBSQI5jTkMuPIHKWz0jMEc2olcgRhAMzATT4mkBBbg3gK6etCZHl+FrmwMgM0YeG6nfC1C/IhwwTPwPjBj0/8zwv4aeQNJ6dXyi+2/kRZB4cmLgCchUOB+Z2hYIv+JqggNtrkNufLXNg/EUuMk9khugaohwSGy9ybDSYvkpPp/AACt74KSTlFn+LxfO80F/PzD355PIDDkwPXDmCuEPrIRg/C/jG62P7UfC1nWD8+uX4Gu3A4kXBUVZALj+CyOJPgPhC2rYhRxAOzISkAl8TKMitAXzltDUhshxfODAX7IVcfgSRXZDIhDKOWYMcQTiwGNm1HQJfbVLnMhH45iK7tknl+MKBuWAv5PIjiOyCRNpqNd1EcgThwNIRyfYs8M1WT9Oiga9pRLJdjxxfODAX7IVcfgSRXZAo24LMPJocQTiwzGGlCAi+KUSz6BTwtQhWiqXK8YUDc8FeyOVHENkFiVJUnc5T5AjCgenkGDUX+EYp40Y/+LrBMeoq5PjCgblgL+TyI4jsgkRRpWVIvxxBODATEIOvCRTk1gC+ctqaEFmOLxyYC/ZCLj+CyC5IZEIZx6xBjiAcWIzs2g6Brzapc5kIfHORXdukcnzhwFywF3L5EUR2QSJttZpuIjmCcGDpiGR7Fvhmq6dp0cDXNCLZrkeOLxyYC/ZCLj+CyC5IlG1BZh5NjiAcWOawUgQE3xSiWXQK+FoEK8VS5fjCgblgL+TyI4jsgkQpqk7nKXIE4cB0coyaC3yjlHGjH3zd4Bh1FXJ84cBcsBdy+RFEdkGiqNIypF+OIByYCYjB1wQKcmsAXzltTYgsxxcOzAV7IZcfQWQXJDKhjGPWIEcQDixGdm2HwFeb1LlMBL65yK5tUjm+cGAu2Au5/AgiuyCRtlpNN5EcQTiwdESyPQt8s9XTtGjgaxqRbNcjxxcOzAV7IZcfQWQXJMq2IDOPJkcQDixzWCkCgm8K0Sw6BXwtgpViqXJ84cBcsBdy+RFEdkGiFFWn8xQ5gnBgOjlGzQW+Ucq40Q++bnCMugo5vnBgLtgLufwIIrsgUVRpGdIvR1CbA5udHSsUltY2FOWPcnlwQSJPT492d3fGnDXvAHU6Gqwsp9rk4MViX7HYp44XajvAV0gZN8KCrxsco65Cjm9ta4rfplMfDdaN+7e4AnL5AYJRNZltvxzB+OLNkC85MDY3qfVZkMGad5bp6dGenq5KZZhHVirDHR2LaZ1wYCwLGq0o4ED9tnL5zp8rxxcOTNweachOufzI8A6tQQd7p5AjaIIDI9NTKvUToFKpv7u7c3p6tFjsGxhYQ0/OOjoWk09SHVjouRpFUAcUi30bN67s7u6kjazR/zU6MN+fKBb7KBQ7sKiJenq6BgbWUHBac7occ4Bvugtvk7PA123QcnzhwODA4u7RQea5IJHhG4RchcfR9f0M+cY/AyuXB8nBVCrDXV2fIrNVLPbxZ4Ll8iCZMDZYFJA/JSyV+kMDyEuxdWNjp7JO4sDiJyoUls7OjoXGqFMkaTvAN8lltu0Y8HUbvRxfODAX7IVcfgSRXZDI8A1CjqBmB1bbUOp/8HMjcjCrVp1fKCzlh2H8CMr3J2hAqdTPDiyEjK2bOkCNwAPUExsdGFs9MnDs8PgsjqNO5PsTpVI/uTEembzhAN/kF9uGI8HXbehyfOHAXLAXcvkRRHZBIsM3CDmCmh1Y4+eArDx9FqmaGP40kMaQnQr5HvJJtE81fQbGFoqdE8/o+xMUrW4Ia3/yIlUDFz8RHJiqKtohBRyo39AV4aWqgBxfODAX7IVcfgSRXZBILScD23IETXNg/FSMHA8/D+MnUqoDo48pybSxwQoNmNeBhb6Jr9JnBzbvRHBgqm5ohxRwoH5DV4SXqgJyfOHAXLAXcvkRRHZBIrWcDGzLETTEgdGHjPS9e/ZMbICafgoZ+gBRzoElmQgOzMCqMWdJDtSvOWIauBI5vnBgLtgLufwIIrsgkYFVrS5JjqAhDoy/RBX6xyD4e/T8VX1+xMUN/jAx3aeQ8z4DSzIRHJiarmiHFHCgfkNXhJeqAnJ84cBcsBdy+RFEdkEitZwMbMsR1OzAahuK8kex2FcuD/LfeSQrQ59FFot9hcJS+rck2IqpfohO9DyP/gWv7u7O0Ff11ado/JBM5Rt6vqUe4s89fX9i3ongwELS4aWqgAP1q14O2iEF5PjCgblgL+TyI4jsgkShijLtpRxBbQ4shaSqf0pxukWntCdfiwC1uFTwbVFAw0+X4wsH5oK9kMuPILILErVthcOBmYBerkJN5muC8nrWAL56dM5rFjm+cGAu2Au5/AgiuyBRXqWbcF45gibfofEMLJ5O60dRvwkLsMVh7Vm/LYpm0elyfOHAXLAXcvmBHVzPNiFHMP4uDr7gq0cBt2dB/YJv/E4bdRQODA4sKjeq/bhD69lZsIPr0TmvWcA3L+X1zAu+enTOaxY5vnBgcGBwYPnngFyFx9GFw/Y1oQffvO6deuYFXz065zWLHF84ME1bsGjqyOVHENkFiUT1bz24HEE4sNbptB4BfFvX0OQI4GsyndbXJscXDswFeyGXH0FkFyRqvQhFI8gRhAMTBZcwOPgmFMrSYeBrKbiEy5bjCwfmgr2Qy48gsgsSJay0vIbJEYQDy4upOi/4qmq41wZf95iqVyTHFw7MBXshlx9BZBckUsvJwLYcQTgwE3CDrwkU5NYAvnLamhBZji8cmAv2Qi4/gsguSGRCGcesQY4gHFiM7NoOga82qXOZCHxzkV3bpHJ84cBcsBdy+RFEdkEibbWabiI5gnBg6Yhkexb4ZqunadHA1zQi2a5Hji8cmAv2Qi4/gsguSJRtQWYeTY4gHFjmsFIEBN8Uoll0CvhaBCvFUuX4woG5YC/k8iOI7IJEKapO5ylyBOHAdHKMmgt8o5Rxox983eAYdRVyfOHAXLAXcvkRRHZBoqjSMqRfjiAcmAmIwdcECnJrAF85bU2ILMdX1oH98IlriyO9+JFW4IdPXBt/o019FASl2VF8OYLx6MEXfPUo4PYsqF/wjd9po47KOrCoWdEPBaAAFIACUAAKQIF2VgAOrJ3p49qhABSAAlAACkCBfBSAA8tHd8wKBaAAFIACUAAKtLMCcGDtTB/XDgWgABSAAlAACuSjABxYPrpjVigABaAAFIACUKCdFYADa2f6uHYoAAWgABSAAlAgHwXgwPLRHbNCASgABaAAFIAC7awAHFg708e1QwEoAAWgABSAAvkoAAeWj+6YFQpAASgABaAAFGhnBeDA2pk+rh0KQAEoAAWgABTIRwE4sHx0x6xQAApAASgABaBAOysAB9bO9HHtUAAKQAEoAAWgQD4KwIHloztmhQJQAApAASgABdpZATiwdqaPa4cCUAAKQAEoAAXyUQAOLB/dMSsUgAJQAApAASjQzgrAgbUzfVw7FIACUAAKQAEokI8CcGD56I5ZoQAUgAJQAApAgXZWAA6snenj2qEAFIACUAAKQIF8FIADy0d3zAoFoAAUgAJQAAq0swJwYO1MH9cOBaAAFIACUAAK5KMAHFg+umNWKAAFoAAUgAJQoJ0VgANrZ/q4digABaAAFIACUCAfBeDA8tEds0IBKAAFoAAUgALtrAAcWDvTx7VDASgABaAAFIAC+SgAB5aP7pgVCkABKAAFoAAUaGcF4MDamT6uHQpAASgABaAAFMhHATiwfHTHrFAACkABKAAFoEA7KwAH1s70ce1QAApAASgABaBAPgrAgeWjO2aFAlAACkABKAAF2lmBmgPDH1AACkABKAAFoAAUgAI6Ffj/gO/CVm7HVpkAAAAASUVORK5CYII=)"
      ],
      "metadata": {
        "id": "_VHrWlCGYtBI"
      }
    },
    {
      "cell_type": "markdown",
      "source": [
        "(source: https://www.c-sharpcorner.com/article/sql-commands-ddl-dql-dml-dcl-tcl-with-examples/)"
      ],
      "metadata": {
        "id": "bhJbfDStZKyW"
      }
    },
    {
      "cell_type": "markdown",
      "source": [
        "11. What is a join in SQL? What are the types of joins?\n",
        "\n",
        "It is used to query data from multiple tables.\n",
        "\n",
        "inner join - will give back result from both the table for matching records in table.\n",
        "\n",
        "outer join - will give back all the records from both table and put null where columns for some records are unavailable.\n",
        "\n",
        "right - gives back all records from right and matching from left.\n",
        "\n",
        "left - gives back all records of left and matching from right."
      ],
      "metadata": {
        "id": "g9Uk9ssUMKh8"
      }
    },
    {
      "cell_type": "markdown",
      "source": [
        "12. How to Join more than 2 tables in sql join.\n",
        "\n",
        "`SELECT *`\n",
        "\n",
        "`FROM Table1`\n",
        "\n",
        "`INNER JOIN Table2 ON Table1.CommonID1 = Table2.CommonID1`\n",
        "\n",
        "`INNER JOIN Table3 ON Table2.CommonID2 = Table3.CommonID2`\n",
        "\n",
        "`INNER JOIN Table4 ON Table3.CommonID3 = Table4.CommonID3;`"
      ],
      "metadata": {
        "id": "CeQHdyaIMKsw"
      }
    },
    {
      "cell_type": "markdown",
      "source": [
        "13. Explain SQL constraints?\n",
        "\n",
        "NOT NULL - Restricts NULL value from being inserted into a column.\n",
        "\n",
        "CHECK - Verifies that all values in a field satisfy a condition.\n",
        "\n",
        "DEFAULT - Automatically assigns a default value if no value has been specified for the field.\n",
        "\n",
        "UNIQUE - Ensures unique values to be inserted into the field.\n",
        "\n",
        "INDEX - Indexes a field providing faster retrieval of records.\n",
        "\n",
        "PRIMARY KEY - Uniquely identifies each record in a table.\n",
        "\n",
        "FOREIGN KEY - Ensures referential integrity for a record in another table.\n",
        "\n",
        "```\n",
        "CREATE TABLE Employees (\n",
        "    EmployeeID INT PRIMARY KEY,   -- PRIMARY KEY constraint\n",
        "    FirstName VARCHAR(50) NOT NULL,   -- NOT NULL constraint\n",
        "    LastName VARCHAR(50) NOT NULL,    -- NOT NULL constraint\n",
        "    Email VARCHAR(100) UNIQUE,   -- UNIQUE constraint\n",
        "    Age INT CHECK (Age >= 18),   -- CHECK constraint\n",
        "    DepartmentID INT,   -- This will be a FOREIGN KEY constraint\n",
        "    HireDate DATE DEFAULT CURRENT_DATE,   -- DEFAULT constraint\n",
        "    INDEX (LastName),   -- INDEX constraint\n",
        "    FOREIGN KEY (DepartmentID) REFERENCES Departments(DepartmentID)   -- FOREIGN KEY constraint\n",
        ");\n",
        "```"
      ],
      "metadata": {
        "id": "_tdJDkLSMKvQ"
      }
    },
    {
      "cell_type": "markdown",
      "source": [
        "14. What is a primary key, a foreign key, and a unique key.\n",
        "\n",
        "Primary key - unique, not null, indexed, immutable (can't be changed once assigned). It uniquily identifies each rows.\n",
        "\n",
        "Foreign key - establish reference to another table, can be null.\n",
        "\n",
        "Unique key - it is unique but can be null. Often indexed.\n",
        "\n",
        "EG: Employee id is primary key, govt id is unique key, department code is foreign key."
      ],
      "metadata": {
        "id": "byuVdSwGMKxs"
      }
    },
    {
      "cell_type": "markdown",
      "source": [
        "15. What is a trigger?\n",
        "\n",
        "\n",
        "In SQL, a trigger is a database object that automatically performs an action (or a set of actions) in response to a specific event, such as an INSERT, UPDATE, DELETE, DDL or some other database operation. Triggers are used to enforce data integrity rules, log changes, or automate certain tasks within a database."
      ],
      "metadata": {
        "id": "Ar0lUYflMK0V"
      }
    },
    {
      "cell_type": "markdown",
      "source": [
        "16. What is the view in SQL?\n",
        "\n",
        "Views in SQL are kind of virtual tables. A view also has rows and columns as they are in a real table in the database. We can create a view by selecting fields from one or more tables present in the database. A View can either have all the rows of a table or specific rows based on certain condition.\n",
        "\n",
        "Reasons to use\n",
        "\n",
        "- Restricting data access.\n",
        "\n",
        "- Hiding data complexity\n",
        "\n",
        "- Simplify complex queries\n",
        "\n",
        "- Simplify command for users.\n",
        "\n",
        "- Different views from same table can be created.\n",
        "\n",
        "- Renaming columns in view, without affecting the base table.\n",
        "\n",
        "Creating views:\n",
        "\n",
        "```\n",
        "CREATE VIEW DetailsView AS\n",
        "SELECT NAME, ADDRESS\n",
        "FROM StudentDetails\n",
        "WHERE S_ID < 5;\n",
        "```\n",
        "\n",
        "(Read more : https://www.geeksforgeeks.org/sql-views/)"
      ],
      "metadata": {
        "id": "ZVI4vb3bbbUt"
      }
    },
    {
      "cell_type": "markdown",
      "source": [
        "17. What is an index?\n",
        "\n"
      ],
      "metadata": {
        "id": "quRUAOiNc2N4"
      }
    },
    {
      "cell_type": "markdown",
      "source": [
        "18. What are table and Field?\n",
        "\n",
        "Table is combo of rows and columns. Rows are called records and columns are called field.\n",
        "\n",
        "It can also be defined as (field) is a single piece of information from a row."
      ],
      "metadata": {
        "id": "99CUJFHveV2a"
      }
    },
    {
      "cell_type": "markdown",
      "source": [
        "19. What is a Default constraint?\n",
        "\n",
        "It is a constraint in SQL column which is used to fill the column with a default and fixed value if no value is passed."
      ],
      "metadata": {
        "id": "hfxyT_RFfEWn"
      }
    },
    {
      "cell_type": "markdown",
      "source": [
        "20. What is the On Delete cascade constraint?\n",
        "\n",
        "It is a constraint in mysql to delete the rows from child table if rows from parent table are deleted.\n",
        "\n",
        "(Read more: https://www.geeksforgeeks.org/mysql-on-delete-cascade-constraint/)"
      ],
      "metadata": {
        "id": "Cgc4VMUNfbs6"
      }
    },
    {
      "cell_type": "markdown",
      "source": [
        "21. What is database in SQL?\n",
        "\n",
        "Database is a collection of highly structured tables in SQL. Wherein each rows reflects a data point or data entity and each column represents a specific information field."
      ],
      "metadata": {
        "id": "AvPjyaA2f8iT"
      }
    },
    {
      "cell_type": "markdown",
      "source": [
        "22. What is a relational database?\n",
        "\n",
        "A relational database is a type of database that stores and provides access to datapoints that are related to each other. RDMs have ability to establise links / relationship between informations by joining tables.\n",
        "\n",
        "Note that rows are also called tuple and columns are called fields or field attributes."
      ],
      "metadata": {
        "id": "Y5qGGRB3UTY4"
      }
    },
    {
      "cell_type": "markdown",
      "source": [
        "Q. How do you structure a database.\n",
        "\n",
        "Ans:\n",
        "\n",
        "1. Determine the purpose.\n",
        "\n",
        "2. Find and organize the information.\n",
        "\n",
        "3. turn different information items into relevant columns.\n",
        "\n",
        "4. Make primary keys, foreign keys and table relationship.\n",
        "\n",
        "5. Refine design and normilization rules."
      ],
      "metadata": {
        "id": "9mbgw3ArVnNm"
      }
    },
    {
      "cell_type": "markdown",
      "source": [
        "Q. Difference between WHERE and HAVING ?\n",
        "\n",
        "Ans:\n",
        "\n",
        "While is simply used to filter the records of table or while joining more and more tables. They can be used with select, update and delete statement.\n",
        "\n",
        "Having clause is used to filter grouped rows in a tble based on certain criteria. It is similar to while but having can be used with aggregrate functions but where clause can't be used like that. It can only be used with select statement.\n",
        "\n",
        "Where is implemented on row operation, having on column operation.\n",
        "\n",
        "Note that we can use both where and having in same query, where will come before group by, having after it.\n",
        "\n",
        "```\n",
        "select\n",
        "\tcount(customer_id) as number_order,\n",
        "\torder_date\n",
        "FROM sales\n",
        "GROUP BY order_date\n",
        "HAVING count(customer_id) > 1;\n",
        "```\n",
        "This will return table of counts of orders in a day.\n"
      ],
      "metadata": {
        "id": "VHVZV4MyFPYC"
      }
    },
    {
      "cell_type": "markdown",
      "source": [
        "Q. Which type of join sql use by default.\n",
        "\n",
        "Ans:\n",
        "\n",
        "SQL use INNER join by default."
      ],
      "metadata": {
        "id": "XYPtA_kVMZsg"
      }
    },
    {
      "cell_type": "markdown",
      "source": [
        "Q. What are subquries in SQL?\n",
        "\n",
        "Ans:\n",
        "\n",
        "Subqueries are nested query inside a another query. It can be used inside where, having and from clause. And it can be used with SELECT, UPDATE, INSERT, DELETE statement. It can be used with quality or comparision operator.\n",
        "\n",
        "We can not use order by inside a subquery."
      ],
      "metadata": {
        "id": "cjjxf3LuNApo"
      }
    },
    {
      "cell_type": "markdown",
      "source": [
        "Q. How do we sort data in sql.\n",
        "\n",
        "Ans.\n",
        "\n",
        "We use ORDER BY clause to sort data in sql on basic of a column. By default order by returns in ascending order, to get in descending we can use\n",
        "`ORDER BY xyz_column DESC;`"
      ],
      "metadata": {
        "id": "8L68tD-9PbRM"
      }
    },
    {
      "cell_type": "markdown",
      "source": [
        "Q. What is CTE in SQL. How do we create them.\n",
        "\n",
        "Ans:\n",
        "\n",
        "CTE is a virtual table store build as a result set to be used in another main query. Main query can be SELECT, UPDATE, INSERT, DELETE, CREATE, VIEW, OR MERGE statements.\n",
        "\n",
        "It is mostly used to simplify complex query and increase readibility.\n",
        "\n",
        "We create it with WITH clause.\n",
        "```\n",
        "WITH temp_table AS (\n",
        "  SELECT XYZ,\n",
        "  FROM xyz,\n",
        "  WHERE xyz\n",
        ")\n",
        "SELECT *\n",
        "FROM temp_table\n",
        "```"
      ],
      "metadata": {
        "id": "3ncIt1ZnqQTo"
      }
    },
    {
      "cell_type": "markdown",
      "source": [
        "Q. In what order are SQL query excuted.\n",
        "\n",
        "Ans:\n",
        "\n",
        "![image.png](data:image/png;base64,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)\n",
        "\n",
        "Source: [Click](https://www.sisense.com/blog/sql-query-order-of-operations/)"
      ],
      "metadata": {
        "id": "kJyzlBemtQSh"
      }
    },
    {
      "cell_type": "markdown",
      "source": [
        "Q. Difference of DDL and DML?\n",
        "\n",
        "Ans:\n",
        "\n",
        "DDL (Data Definition Language):\n",
        "\n",
        "DDL is a subset of SQL that deals with the structure and definition of the database objects.\n",
        "DDL commands are used to create, modify, and delete database objects such as tables, indexes, and schemas.\n",
        "Common DDL commands include CREATE, ALTER, and DROP.\n",
        "DML (Data Manipulation Language):\n",
        "\n",
        "DML is another subset of SQL that focuses on the manipulation of data within the database objects.\n",
        "DML commands are used to insert, update, and delete data records in database tables.\n",
        "Common DML commands include INSERT, UPDATE, and DELETE."
      ],
      "metadata": {
        "id": "tZ6Vb4ns1sJm"
      }
    },
    {
      "cell_type": "markdown",
      "source": [
        "Q. Difference in RANK() nd DENSE_RANK().\n",
        "\n",
        "Ans:\n",
        "\n"
      ],
      "metadata": {
        "id": "LLoDPW6ENCdT"
      }
    }
  ]
}