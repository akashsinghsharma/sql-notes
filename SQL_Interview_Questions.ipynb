{
  "nbformat": 4,
  "nbformat_minor": 0,
  "metadata": {
    "colab": {
      "provenance": [],
      "authorship_tag": "ABX9TyOBoPnjqtj/Bk06RNeNnV/6",
      "include_colab_link": true
    },
    "kernelspec": {
      "name": "python3",
      "display_name": "Python 3"
    },
    "language_info": {
      "name": "python"
    }
  },
  "cells": [
    {
      "cell_type": "markdown",
      "metadata": {
        "id": "view-in-github",
        "colab_type": "text"
      },
      "source": [
        "<a href=\"https://colab.research.google.com/github/akashsinghsharma/sql-notes/blob/main/SQL_Interview_Questions.ipynb\" target=\"_parent\"><img src=\"https://colab.research.google.com/assets/colab-badge.svg\" alt=\"Open In Colab\"/></a>"
      ]
    },
    {
      "cell_type": "markdown",
      "source": [
        "**Important and common SQL Questions in Interviews**\n",
        "***"
      ],
      "metadata": {
        "id": "WzMkseFtgAZx"
      }
    },
    {
      "cell_type": "markdown",
      "source": [
        "1. What is SQL?\n",
        "\n",
        "SQL stands for structured query language. It is used to interact with databases, like creating table to\n",
        "columns, inserting rows to pulling different records with different conditions, executing queries etc."
      ],
      "metadata": {
        "id": "LApBbwCHXqvU"
      }
    },
    {
      "cell_type": "markdown",
      "source": [
        "2. What is a database?\n",
        "\n",
        "A collection of data in an organized manner and can be accessed in various ways. It is also the collection\n",
        "of schemas, tables, queries, views, etc. Databases help us with easily storing, accessing, and\n",
        "manipulating data held on a computer"
      ],
      "metadata": {
        "id": "V64taXciXwtw"
      }
    },
    {
      "cell_type": "markdown",
      "source": [
        "3. Does SQL support programming language features?\n",
        "\n",
        "SQL helps us in manipulating data in database. We can query, update, delete, create data in database but\n",
        "we can't program anything as it lacks conditional statements, etc. if else statement. This it is a command\n",
        "language not a programming language."
      ],
      "metadata": {
        "id": "etfFErKOX0tj"
      }
    },
    {
      "cell_type": "markdown",
      "source": [
        "4. What are the differences between SQL and PL/SQL?\n",
        "\n",
        "SQL is a query or command language, PL/SQL is a programming language. SQL is used to query data\n",
        "while later is used to create application. SQL tells database what do do while later tells how to do it. We\n",
        "can run multiple block of statements in PL / SQL but we can't do the same in SQL."
      ],
      "metadata": {
        "id": "NTnsONWsX6jg"
      }
    },
    {
      "cell_type": "markdown",
      "source": [
        "5. What is the difference between BETWEEN and IN operators in SQL?\n",
        "\n",
        "Between is used to check in between some range, like say BETWEEN 20 AND 30, which means anything\n",
        "in between 20 and 30.\n",
        "IN operator will check for me the exact values in a list."
      ],
      "metadata": {
        "id": "ZMYLxGmTX-ji"
      }
    },
    {
      "cell_type": "markdown",
      "source": [
        "6. Write an SQL query to find the names of employees starting with ‘A’.\n",
        "```\n",
        "SELECT * FROM Employees\n",
        "WHERE EmpName LIKE 'A%'\n",
        "```"
      ],
      "metadata": {
        "id": "2uRJbG7yYN2q"
      }
    },
    {
      "cell_type": "markdown",
      "source": [
        "7. What is the difference between CHAR and VARCHAR2 datatype in SQL?\n",
        "\n",
        "Char will be use to store character of fixed length. For eg say char(3) will store nothing other\n",
        "than length 3.\n",
        "Varchar2(8) can store anything like 5,6,7,8, or anything below."
      ],
      "metadata": {
        "id": "Ca8Ce5FeYRLv"
      }
    },
    {
      "cell_type": "markdown",
      "source": [
        "8. Name different types of case manipulation functions available in SQL.\n",
        "\n",
        "There is upper for upper case, lower for lower case and there is initcap for first ad capital and\n",
        "rest as lower case in a string"
      ],
      "metadata": {
        "id": "sIt76yolYVHU"
      }
    },
    {
      "cell_type": "markdown",
      "source": [
        "9. What do you mean by data definition language?\n",
        "\n",
        "Things like create, drop, alter, etc. Helps us in defining the data. Any function which helps in\n",
        "defining the data is called ddl or data definition language."
      ],
      "metadata": {
        "id": "Et4YYODhYh50"
      }
    },
    {
      "cell_type": "markdown",
      "source": [
        "10. What do you mean by data manipulation language?\n",
        "\n",
        "DML is used to access or manipulate data in database.\n",
        "Examples are insert, delete, update data or fetching data from database.\n",
        "- Note: Alter is used to alter, delete, add the attribute of relations (tables) in database.\n",
        "- Update is used to update existing rows or records in database.\n",
        "- DROP command in SQL removes the table form the database, DELETE command\n",
        "removes one or more records from the table, and TRUNCATE command removes all the\n",
        "rows from the existing table."
      ],
      "metadata": {
        "id": "5xn_abzsYoN2"
      }
    },
    {
      "cell_type": "markdown",
      "source": [
        "![image.png](data:image/png;base64,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)"
      ],
      "metadata": {
        "id": "_VHrWlCGYtBI"
      }
    },
    {
      "cell_type": "markdown",
      "source": [
        "(source: https://www.c-sharpcorner.com/article/sql-commands-ddl-dql-dml-dcl-tcl-with-examples/)"
      ],
      "metadata": {
        "id": "bhJbfDStZKyW"
      }
    },
    {
      "cell_type": "markdown",
      "source": [
        "11. What is a join in SQL? What are the types of joins?\n",
        "\n",
        "It is used to query data from multiple tables.\n",
        "\n",
        "inner join - will give back result from both the table for matching records in table.\n",
        "outer join - will give back all the records from both table and put null where columns for some records are unavailable.\n",
        "right - gives back all records from right and matching from left.\n",
        "left - gives back all records of left and matching from right."
      ],
      "metadata": {
        "id": "g9Uk9ssUMKh8"
      }
    },
    {
      "cell_type": "markdown",
      "source": [
        "12. How to Join more than 2 tables in sql join.\n",
        "\n",
        "`SELECT *`\n",
        "\n",
        "`FROM Table1`\n",
        "\n",
        "`INNER JOIN Table2 ON Table1.CommonID1 = Table2.CommonID1`\n",
        "\n",
        "`INNER JOIN Table3 ON Table2.CommonID2 = Table3.CommonID2`\n",
        "\n",
        "`INNER JOIN Table4 ON Table3.CommonID3 = Table4.CommonID3;`"
      ],
      "metadata": {
        "id": "CeQHdyaIMKsw"
      }
    },
    {
      "cell_type": "markdown",
      "source": [
        "13. Explain SQL constraints?\n",
        "\n",
        "NOT NULL - Restricts NULL value from being inserted into a column.\n",
        "\n",
        "CHECK - Verifies that all values in a field satisfy a condition.\n",
        "\n",
        "DEFAULT - Automatically assigns a default value if no value has been specified for the field.\n",
        "\n",
        "UNIQUE - Ensures unique values to be inserted into the field.\n",
        "\n",
        "INDEX - Indexes a field providing faster retrieval of records.\n",
        "\n",
        "PRIMARY KEY - Uniquely identifies each record in a table.\n",
        "\n",
        "FOREIGN KEY - Ensures referential integrity for a record in another table.\n",
        "\n",
        "```\n",
        "CREATE TABLE Employees (\n",
        "    EmployeeID INT PRIMARY KEY,   -- PRIMARY KEY constraint\n",
        "    FirstName VARCHAR(50) NOT NULL,   -- NOT NULL constraint\n",
        "    LastName VARCHAR(50) NOT NULL,    -- NOT NULL constraint\n",
        "    Email VARCHAR(100) UNIQUE,   -- UNIQUE constraint\n",
        "    Age INT CHECK (Age >= 18),   -- CHECK constraint\n",
        "    DepartmentID INT,   -- This will be a FOREIGN KEY constraint\n",
        "    HireDate DATE DEFAULT CURRENT_DATE,   -- DEFAULT constraint\n",
        "    INDEX (LastName),   -- INDEX constraint\n",
        "    FOREIGN KEY (DepartmentID) REFERENCES Departments(DepartmentID)   -- FOREIGN KEY constraint\n",
        ");\n",
        "```"
      ],
      "metadata": {
        "id": "_tdJDkLSMKvQ"
      }
    },
    {
      "cell_type": "markdown",
      "source": [
        "14. What is a primary key, a foreign key, and a unique key.\n",
        "\n",
        "Primary key - unique, not null, indexed, immutable (can't be changed once assigned). It uniquily identifies each rows.\n",
        "\n",
        "Foreign key - establish reference to another table, can be null.\n",
        "\n",
        "Unique key - it is unique but can be null. Often indexed.\n",
        "\n",
        "EG: Employee id is primary key, govt id is unique key, department code is foreign key."
      ],
      "metadata": {
        "id": "byuVdSwGMKxs"
      }
    },
    {
      "cell_type": "markdown",
      "source": [
        "15. What is a trigger?\n",
        "\n",
        "\n",
        "In SQL, a trigger is a database object that automatically performs an action (or a set of actions) in response to a specific event, such as an INSERT, UPDATE, DELETE, DDL or some other database operation. Triggers are used to enforce data integrity rules, log changes, or automate certain tasks within a database."
      ],
      "metadata": {
        "id": "Ar0lUYflMK0V"
      }
    },
    {
      "cell_type": "markdown",
      "source": [
        "16. What is the view in SQL?\n",
        "\n",
        "Views in SQL are kind of virtual tables. A view also has rows and columns as they are in a real table in the database. We can create a view by selecting fields from one or more tables present in the database. A View can either have all the rows of a table or specific rows based on certain condition.\n",
        "\n",
        "Reasons to use\n",
        "\n",
        "- Restricting data access.\n",
        "\n",
        "- Hiding data complexity\n",
        "\n",
        "- Simplify complex queries\n",
        "\n",
        "- Simplify command for users.\n",
        "\n",
        "- Different views from same table can be created.\n",
        "\n",
        "- Renaming columns in view, without affecting the base table.\n",
        "\n",
        "(Read more : https://www.geeksforgeeks.org/sql-views/)"
      ],
      "metadata": {
        "id": "ZVI4vb3bbbUt"
      }
    },
    {
      "cell_type": "markdown",
      "source": [
        "17. What is an index?\n",
        "\n"
      ],
      "metadata": {
        "id": "quRUAOiNc2N4"
      }
    },
    {
      "cell_type": "markdown",
      "source": [
        "18. What are table and Field?\n",
        "\n",
        "Tbale is combo of rows and columns. Rows are called records and columns are called field.\n",
        "\n",
        "It can also be defined as (field) is a single piece of information from a row."
      ],
      "metadata": {
        "id": "99CUJFHveV2a"
      }
    },
    {
      "cell_type": "markdown",
      "source": [
        "19. What is a Default constraint?\n",
        "\n",
        "It is a constraint in SQL column which is used to fill the column with a default and fixed value if no value is passed."
      ],
      "metadata": {
        "id": "hfxyT_RFfEWn"
      }
    },
    {
      "cell_type": "markdown",
      "source": [
        "20. What is the On Delete cascade constraint?\n",
        "\n",
        "It is a constraint in mysql to delete the rows from child table if rows from parent table are deleted.\n",
        "\n",
        "(Read more: https://www.geeksforgeeks.org/mysql-on-delete-cascade-constraint/)"
      ],
      "metadata": {
        "id": "Cgc4VMUNfbs6"
      }
    },
    {
      "cell_type": "markdown",
      "source": [
        "21. What is database in SQL?\n",
        "\n",
        "Database is a collection of highly structured tables in SQL. Wherein each rows reflects a data point or data entity and each column represents a specific information field."
      ],
      "metadata": {
        "id": "AvPjyaA2f8iT"
      }
    },
    {
      "cell_type": "markdown",
      "source": [
        "22. What is a relational database?\n",
        "\n",
        "A relational database is a type of database that stores and provides access to datapoints that are related to each other. RDMs have ability to establise links / relationship between informations by joining tables.\n",
        "\n",
        "Note that rows are also called tuple and columns are called fields or field attributes."
      ],
      "metadata": {
        "id": "Y5qGGRB3UTY4"
      }
    },
    {
      "cell_type": "markdown",
      "source": [
        "Q. How do you structure a database.\n",
        "\n",
        "Ans:\n",
        "\n",
        "1. Determine the purpose.\n",
        "\n",
        "2. Find and organize the information.\n",
        "\n",
        "3. turn different information items into relevant columns.\n",
        "\n",
        "4. Make primary keys, foreign keys and table relationship.\n",
        "\n",
        "5. Refine design and normilization rules."
      ],
      "metadata": {
        "id": "9mbgw3ArVnNm"
      }
    },
    {
      "cell_type": "markdown",
      "source": [
        "Q. Difference between WHERE and HAVING ?\n",
        "\n",
        "Ans:\n",
        "\n",
        "While is simply used to filter the records of table or while joining more and more tables. They can be used with select, update and delete statement.\n",
        "\n",
        "Having clause is used to filter grouped rows in a tble based on certain criteria. It is similar to while but having can be used with aggregrate functions but where clause can't be used like that. It can only be used with select statement.\n",
        "\n",
        "Where is implemented on row operation, having on column operation.\n",
        "\n",
        "Note that we can use both where and having in same query, where will come before group by, having after it.\n",
        "\n",
        "```\n",
        "select\n",
        "\tcount(customer_id) as number_order,\n",
        "\torder_date\n",
        "FROM sales\n",
        "GROUP BY order_date\n",
        "HAVING count(customer_id) > 1;\n",
        "```\n",
        "This will return table of counts of orders in a day.\n"
      ],
      "metadata": {
        "id": "VHVZV4MyFPYC"
      }
    }
  ]
}